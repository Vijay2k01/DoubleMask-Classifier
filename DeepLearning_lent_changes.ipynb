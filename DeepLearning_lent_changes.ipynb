{
  "nbformat": 4,
  "nbformat_minor": 0,
  "metadata": {
    "colab": {
      "name": "DeepLearning_lent changes.ipynb",
      "provenance": []
    },
    "kernelspec": {
      "name": "python3",
      "display_name": "Python 3"
    },
    "language_info": {
      "name": "python"
    },
    "accelerator": "GPU"
  },
  "cells": [
    {
      "cell_type": "markdown",
      "source": [
        "# **DOUBLE MASK DETECTION**"
      ],
      "metadata": {
        "id": "gpj6M2437w6H"
      }
    },
    {
      "cell_type": "markdown",
      "source": [
        "**TEAM MEMBERS :**\n",
        "\n",
        "1.VIJAY KUMAR.P - 19BCE7306\n",
        "\n",
        "2.GUNTUPALLI TANUSH - 19BCE7297 (A SLOT)\n",
        "\n",
        "3.NARRA NIVAS - 19BCE7635 (A SLOT)\n",
        "\n",
        "4.G.SIVA NAGA SAI BABU - 19BCE7452 \n"
      ],
      "metadata": {
        "id": "WltqFUQT73aY"
      }
    },
    {
      "cell_type": "code",
      "execution_count": 1,
      "metadata": {
        "id": "GUktx-WZq-xJ"
      },
      "outputs": [],
      "source": [
        "from tensorflow.keras.optimizers import RMSprop\n",
        "from keras.preprocessing.image import ImageDataGenerator\n",
        "import cv2\n",
        "from keras.models import Sequential\n",
        "from keras.layers import Conv2D, Input, ZeroPadding2D, BatchNormalization, Activation, MaxPooling2D, Flatten, Dense,Dropout, AveragePooling2D\n",
        "from keras.models import Model, load_model\n",
        "from keras.callbacks import TensorBoard, ModelCheckpoint\n",
        "from sklearn.model_selection import train_test_split\n",
        "from sklearn.metrics import f1_score\n",
        "from sklearn.utils import shuffle\n",
        "import imutils\n",
        "import numpy as np\n",
        "import keras\n",
        "from keras.models import Sequential, Model\n",
        "from keras.layers import Conv2D, MaxPooling2D, Input\n",
        "from keras.layers import Dense, Dropout, Activation, Flatten\n",
        "from IPython.display import SVG\n",
        "from keras.utils.vis_utils import model_to_dot\n",
        "import tensorflow as tf\n",
        "import matplotlib.pyplot as plt\n",
        "from tensorflow.keras import datasets, layers, models, losses\n",
        "from keras.utils.np_utils import to_categorical"
      ]
    },
    {
      "cell_type": "code",
      "source": [
        "from google.colab import drive\n",
        "drive.mount('/content/gdrive')"
      ],
      "metadata": {
        "colab": {
          "base_uri": "https://localhost:8080/"
        },
        "id": "dy_7S-FHI4KW",
        "outputId": "8177b9f8-85f8-4c3b-f7a9-5d364ba6a805"
      },
      "execution_count": 2,
      "outputs": [
        {
          "output_type": "stream",
          "name": "stdout",
          "text": [
            "Mounted at /content/gdrive\n"
          ]
        }
      ]
    },
    {
      "cell_type": "code",
      "metadata": {
        "id": "GJVmttzJ2F-N",
        "colab": {
          "base_uri": "https://localhost:8080/"
        },
        "outputId": "2dc9dce9-46c4-42f3-f046-bf162ada3444"
      },
      "source": [
        "from keras.preprocessing.image import ImageDataGenerator\n",
        "train_datagen=ImageDataGenerator(rescale=1./255,shear_range=0.2,zoom_range=0.2,horizontal_flip=True)\n",
        "x_train=train_datagen.flow_from_directory(\"/content/gdrive/MyDrive/dataset (1)/Train\",target_size=(224,224),batch_size=32,class_mode=\"categorical\")"
      ],
      "execution_count": 3,
      "outputs": [
        {
          "output_type": "stream",
          "name": "stdout",
          "text": [
            "Found 382 images belonging to 3 classes.\n"
          ]
        }
      ]
    },
    {
      "cell_type": "code",
      "metadata": {
        "id": "rYYIjC1y2F-O",
        "colab": {
          "base_uri": "https://localhost:8080/"
        },
        "outputId": "4423ad44-ebb3-416f-80d1-ec43251cdbdf"
      },
      "source": [
        "print(x_train.class_indices)"
      ],
      "execution_count": 4,
      "outputs": [
        {
          "output_type": "stream",
          "name": "stdout",
          "text": [
            "{'Double mask': 0, 'Single mask': 1, 'Without mask': 2}\n"
          ]
        }
      ]
    },
    {
      "cell_type": "code",
      "metadata": {
        "id": "8neY59282F-O",
        "colab": {
          "base_uri": "https://localhost:8080/"
        },
        "outputId": "a1de92c8-b958-4435-f374-caf224cd3fb0"
      },
      "source": [
        "test_datagen=ImageDataGenerator(rescale=1./255)\n",
        "x_test=test_datagen.flow_from_directory(\"/content/gdrive/MyDrive/dataset (1)/Test\",target_size=(224,224),batch_size=32,class_mode=\"categorical\")"
      ],
      "execution_count": 5,
      "outputs": [
        {
          "output_type": "stream",
          "name": "stdout",
          "text": [
            "Found 140 images belonging to 3 classes.\n"
          ]
        }
      ]
    },
    {
      "cell_type": "markdown",
      "metadata": {
        "id": "NkM2VPZzVSBl"
      },
      "source": [
        "# Alexnet Architecture"
      ]
    },
    {
      "cell_type": "code",
      "metadata": {
        "id": "PQZQn1PQVVxE"
      },
      "source": [
        "model = Sequential()\n",
        "\n",
        "# 1st Convolutional Layer\n",
        "model.add(Conv2D(filters = 96, input_shape = (224, 224, 3),\n",
        "\t\t\tkernel_size = (11, 11), strides = (4, 4),\n",
        "\t\t\tpadding = 'valid'))\n",
        "model.add(Activation('relu'))\n",
        "# Max-Pooling\n",
        "model.add(MaxPooling2D(pool_size = (2, 2),\n",
        "\t\t\tstrides = (2, 2), padding = 'valid'))\n",
        "# Batch Normalisation\n",
        "model.add(BatchNormalization())\n",
        "\n",
        "# 2nd Convolutional Layer\n",
        "model.add(Conv2D(filters = 256, kernel_size = (11, 11),\n",
        "\t\t\tstrides = (1, 1), padding = 'valid'))\n",
        "model.add(Activation('relu'))\n",
        "# Max-Pooling\n",
        "model.add(MaxPooling2D(pool_size = (2, 2), strides = (2, 2),\n",
        "\t\t\tpadding = 'valid'))\n",
        "# Batch Normalisation\n",
        "model.add(BatchNormalization())\n",
        "\n",
        "# 3rd Convolutional Layer\n",
        "model.add(Conv2D(filters = 384, kernel_size = (3, 3),\n",
        "\t\t\tstrides = (1, 1), padding = 'valid'))\n",
        "model.add(Activation('relu'))\n",
        "# Batch Normalisation\n",
        "model.add(BatchNormalization())\n",
        "\n",
        "# 4th Convolutional Layer\n",
        "model.add(Conv2D(filters = 384, kernel_size = (3, 3),\n",
        "\t\t\tstrides = (1, 1), padding = 'valid'))\n",
        "model.add(Activation('relu'))\n",
        "# Batch Normalisation\n",
        "model.add(BatchNormalization())\n",
        "\n",
        "# 5th Convolutional Layer\n",
        "model.add(Conv2D(filters = 256, kernel_size = (3, 3),\n",
        "\t\t\tstrides = (1, 1), padding = 'valid'))\n",
        "model.add(Activation('relu'))\n",
        "# Max-Pooling\n",
        "model.add(MaxPooling2D(pool_size = (2, 2), strides = (2, 2),\n",
        "\t\t\tpadding = 'valid'))\n",
        "# Batch Normalisation\n",
        "model.add(BatchNormalization())\n",
        "\n",
        "# Flattening\n",
        "model.add(Flatten())\n",
        "\n",
        "# 1st Dense Layer\n",
        "model.add(Dense(4096, input_shape = (224*224*3, )))\n",
        "model.add(Activation('relu'))\n",
        "# Add Dropout to prevent overfitting\n",
        "model.add(Dropout(0.4))\n",
        "# Batch Normalisation\n",
        "model.add(BatchNormalization())\n",
        "\n",
        "# 2nd Dense Layer\n",
        "model.add(Dense(4096))\n",
        "model.add(Activation('relu'))\n",
        "# Add Dropout\n",
        "model.add(Dropout(0.4))\n",
        "# Batch Normalisation\n",
        "model.add(BatchNormalization())\n",
        "\n",
        "# Output Softmax Layer\n",
        "model.add(Dense(3))\n",
        "model.add(Activation('softmax'))\n",
        "\n",
        "model.compile(loss='categorical_crossentropy', \n",
        "\t      optimizer='adam',\n",
        "\t      metrics=['acc'])\n"
      ],
      "execution_count": 6,
      "outputs": []
    },
    {
      "cell_type": "code",
      "metadata": {
        "colab": {
          "base_uri": "https://localhost:8080/"
        },
        "id": "kZYIunr2VjxY",
        "outputId": "179ddc8a-6a5f-4a02-cfff-bdd6fa3d930d"
      },
      "source": [
        "#steps per epoch=279/30;validation_step=120/30\n",
        "history=model.fit_generator(x_train,epochs=50,validation_data=x_test)"
      ],
      "execution_count": 49,
      "outputs": [
        {
          "output_type": "stream",
          "name": "stderr",
          "text": [
            "/usr/local/lib/python3.7/dist-packages/ipykernel_launcher.py:2: UserWarning: `Model.fit_generator` is deprecated and will be removed in a future version. Please use `Model.fit`, which supports generators.\n",
            "  \n"
          ]
        },
        {
          "output_type": "stream",
          "name": "stdout",
          "text": [
            "Epoch 1/50\n",
            "12/12 [==============================] - 7s 625ms/step - loss: 0.2609 - acc: 0.9005 - val_loss: 2.3991 - val_acc: 0.6214\n",
            "Epoch 2/50\n",
            "12/12 [==============================] - 7s 607ms/step - loss: 0.2785 - acc: 0.9188 - val_loss: 2.1074 - val_acc: 0.6786\n",
            "Epoch 3/50\n",
            "12/12 [==============================] - 7s 599ms/step - loss: 0.3224 - acc: 0.8927 - val_loss: 2.1487 - val_acc: 0.6429\n",
            "Epoch 4/50\n",
            "12/12 [==============================] - 7s 586ms/step - loss: 0.2468 - acc: 0.9110 - val_loss: 1.9733 - val_acc: 0.6571\n",
            "Epoch 5/50\n",
            "12/12 [==============================] - 7s 589ms/step - loss: 0.2702 - acc: 0.9084 - val_loss: 1.8796 - val_acc: 0.6357\n",
            "Epoch 6/50\n",
            "12/12 [==============================] - 7s 614ms/step - loss: 0.2637 - acc: 0.9084 - val_loss: 2.0739 - val_acc: 0.6143\n",
            "Epoch 7/50\n",
            "12/12 [==============================] - 7s 596ms/step - loss: 0.2043 - acc: 0.9162 - val_loss: 2.2391 - val_acc: 0.6286\n",
            "Epoch 8/50\n",
            "12/12 [==============================] - 7s 606ms/step - loss: 0.2743 - acc: 0.9058 - val_loss: 2.3482 - val_acc: 0.6071\n",
            "Epoch 9/50\n",
            "12/12 [==============================] - 7s 604ms/step - loss: 0.1998 - acc: 0.9293 - val_loss: 1.8556 - val_acc: 0.6786\n",
            "Epoch 10/50\n",
            "12/12 [==============================] - 8s 688ms/step - loss: 0.1268 - acc: 0.9660 - val_loss: 1.8622 - val_acc: 0.6500\n",
            "Epoch 11/50\n",
            "12/12 [==============================] - 7s 618ms/step - loss: 0.0969 - acc: 0.9607 - val_loss: 2.0405 - val_acc: 0.6714\n",
            "Epoch 12/50\n",
            "12/12 [==============================] - 7s 612ms/step - loss: 0.1196 - acc: 0.9529 - val_loss: 2.0819 - val_acc: 0.6357\n",
            "Epoch 13/50\n",
            "12/12 [==============================] - 7s 607ms/step - loss: 0.0786 - acc: 0.9686 - val_loss: 1.9938 - val_acc: 0.6643\n",
            "Epoch 14/50\n",
            "12/12 [==============================] - 7s 624ms/step - loss: 0.1209 - acc: 0.9712 - val_loss: 2.3069 - val_acc: 0.7000\n",
            "Epoch 15/50\n",
            "12/12 [==============================] - 7s 591ms/step - loss: 0.2519 - acc: 0.9346 - val_loss: 1.9909 - val_acc: 0.6571\n",
            "Epoch 16/50\n",
            "12/12 [==============================] - 7s 605ms/step - loss: 0.2050 - acc: 0.9424 - val_loss: 2.7720 - val_acc: 0.6786\n",
            "Epoch 17/50\n",
            "12/12 [==============================] - 7s 595ms/step - loss: 0.2125 - acc: 0.9346 - val_loss: 1.8065 - val_acc: 0.6643\n",
            "Epoch 18/50\n",
            "12/12 [==============================] - 7s 592ms/step - loss: 0.2905 - acc: 0.9267 - val_loss: 2.2632 - val_acc: 0.6214\n",
            "Epoch 19/50\n",
            "12/12 [==============================] - 7s 598ms/step - loss: 0.1387 - acc: 0.9555 - val_loss: 2.2845 - val_acc: 0.6929\n",
            "Epoch 20/50\n",
            "12/12 [==============================] - 7s 596ms/step - loss: 0.1705 - acc: 0.9529 - val_loss: 2.9081 - val_acc: 0.6143\n",
            "Epoch 21/50\n",
            "12/12 [==============================] - 7s 608ms/step - loss: 0.2619 - acc: 0.9162 - val_loss: 2.3880 - val_acc: 0.6143\n",
            "Epoch 22/50\n",
            "12/12 [==============================] - 8s 708ms/step - loss: 0.1830 - acc: 0.9398 - val_loss: 2.3748 - val_acc: 0.6214\n",
            "Epoch 23/50\n",
            "12/12 [==============================] - 7s 616ms/step - loss: 0.2220 - acc: 0.9215 - val_loss: 1.9941 - val_acc: 0.6429\n",
            "Epoch 24/50\n",
            "12/12 [==============================] - 7s 597ms/step - loss: 0.1936 - acc: 0.9398 - val_loss: 2.2044 - val_acc: 0.7071\n",
            "Epoch 25/50\n",
            "12/12 [==============================] - 7s 592ms/step - loss: 0.1743 - acc: 0.9476 - val_loss: 1.7559 - val_acc: 0.6500\n",
            "Epoch 26/50\n",
            "12/12 [==============================] - 7s 588ms/step - loss: 0.1620 - acc: 0.9476 - val_loss: 2.1540 - val_acc: 0.6429\n",
            "Epoch 27/50\n",
            "12/12 [==============================] - 7s 604ms/step - loss: 0.1687 - acc: 0.9241 - val_loss: 2.6034 - val_acc: 0.6643\n",
            "Epoch 28/50\n",
            "12/12 [==============================] - 7s 586ms/step - loss: 0.2332 - acc: 0.9398 - val_loss: 2.3723 - val_acc: 0.6714\n",
            "Epoch 29/50\n",
            "12/12 [==============================] - 7s 597ms/step - loss: 0.1678 - acc: 0.9346 - val_loss: 2.5758 - val_acc: 0.6571\n",
            "Epoch 30/50\n",
            "12/12 [==============================] - 7s 610ms/step - loss: 0.2926 - acc: 0.9319 - val_loss: 2.3119 - val_acc: 0.6786\n",
            "Epoch 31/50\n",
            "12/12 [==============================] - 7s 596ms/step - loss: 0.2855 - acc: 0.9162 - val_loss: 2.1310 - val_acc: 0.6571\n",
            "Epoch 32/50\n",
            "12/12 [==============================] - 7s 592ms/step - loss: 0.2060 - acc: 0.9346 - val_loss: 2.4982 - val_acc: 0.6429\n",
            "Epoch 33/50\n",
            "12/12 [==============================] - 7s 601ms/step - loss: 0.1979 - acc: 0.9372 - val_loss: 1.7181 - val_acc: 0.6857\n",
            "Epoch 34/50\n",
            "12/12 [==============================] - 7s 620ms/step - loss: 0.1735 - acc: 0.9372 - val_loss: 1.6136 - val_acc: 0.6857\n",
            "Epoch 35/50\n",
            "12/12 [==============================] - 7s 599ms/step - loss: 0.0919 - acc: 0.9686 - val_loss: 1.2753 - val_acc: 0.7071\n",
            "Epoch 36/50\n",
            "12/12 [==============================] - 7s 603ms/step - loss: 0.1272 - acc: 0.9634 - val_loss: 2.2893 - val_acc: 0.6786\n",
            "Epoch 37/50\n",
            "12/12 [==============================] - 7s 629ms/step - loss: 0.1089 - acc: 0.9607 - val_loss: 1.9580 - val_acc: 0.6429\n",
            "Epoch 38/50\n",
            "12/12 [==============================] - 7s 587ms/step - loss: 0.0869 - acc: 0.9686 - val_loss: 1.8174 - val_acc: 0.6929\n",
            "Epoch 39/50\n",
            "12/12 [==============================] - 7s 590ms/step - loss: 0.0704 - acc: 0.9791 - val_loss: 2.2548 - val_acc: 0.7214\n",
            "Epoch 40/50\n",
            "12/12 [==============================] - 7s 577ms/step - loss: 0.1716 - acc: 0.9450 - val_loss: 1.9407 - val_acc: 0.6714\n",
            "Epoch 41/50\n",
            "12/12 [==============================] - 7s 586ms/step - loss: 0.0685 - acc: 0.9764 - val_loss: 2.1404 - val_acc: 0.6643\n",
            "Epoch 42/50\n",
            "12/12 [==============================] - 7s 590ms/step - loss: 0.1268 - acc: 0.9581 - val_loss: 1.8783 - val_acc: 0.6500\n",
            "Epoch 43/50\n",
            "12/12 [==============================] - 7s 594ms/step - loss: 0.0795 - acc: 0.9791 - val_loss: 2.3489 - val_acc: 0.6929\n",
            "Epoch 44/50\n",
            "12/12 [==============================] - 7s 608ms/step - loss: 0.1852 - acc: 0.9424 - val_loss: 2.4730 - val_acc: 0.6786\n",
            "Epoch 45/50\n",
            "12/12 [==============================] - 7s 618ms/step - loss: 0.1395 - acc: 0.9476 - val_loss: 2.0891 - val_acc: 0.6857\n",
            "Epoch 46/50\n",
            "12/12 [==============================] - 7s 625ms/step - loss: 0.1425 - acc: 0.9503 - val_loss: 2.2368 - val_acc: 0.6643\n",
            "Epoch 47/50\n",
            "12/12 [==============================] - 7s 627ms/step - loss: 0.1095 - acc: 0.9634 - val_loss: 1.7192 - val_acc: 0.6857\n",
            "Epoch 48/50\n",
            "12/12 [==============================] - 7s 614ms/step - loss: 0.0693 - acc: 0.9791 - val_loss: 2.0817 - val_acc: 0.6857\n",
            "Epoch 49/50\n",
            "12/12 [==============================] - 7s 590ms/step - loss: 0.0356 - acc: 0.9895 - val_loss: 2.4493 - val_acc: 0.6929\n",
            "Epoch 50/50\n",
            "12/12 [==============================] - 7s 584ms/step - loss: 0.0583 - acc: 0.9712 - val_loss: 2.3124 - val_acc: 0.6786\n"
          ]
        }
      ]
    },
    {
      "cell_type": "code",
      "source": [
        "training_loss = history.history['loss']\n",
        "test_loss = history.history['val_loss']\n",
        "\n",
        "# Create count of the number of epochs\n",
        "epoch_count = range(1, len(training_loss) + 1)\n",
        "\n",
        "# Visualize loss history\n",
        "plt.plot(epoch_count, training_loss, 'r--')\n",
        "plt.plot(epoch_count, test_loss, 'b-')\n",
        "plt.legend(['epoch', 'Test Loss'])\n",
        "plt.xlabel('Epoch')\n",
        "plt.ylabel('Loss')\n",
        "plt.show();"
      ],
      "metadata": {
        "colab": {
          "base_uri": "https://localhost:8080/",
          "height": 280
        },
        "id": "vfkckQVf0MSK",
        "outputId": "8c5ceb3d-e26f-460d-c825-a57cab2ac862"
      },
      "execution_count": 54,
      "outputs": [
        {
          "output_type": "display_data",
          "data": {
            "text/plain": [
              "<Figure size 432x288 with 1 Axes>"
            ],
            "image/png": "[encoded data removed]"
          },
          "metadata": {
            "needs_background": "light"
          }
        }
      ]
    },
    {
      "cell_type": "code",
      "metadata": {
        "id": "zwbfwEbPVr8H"
      },
      "source": [
        "# Making predictions using our trained model\n",
        "predictions = model.predict(x_test)\n",
        "predictions = np.argmax(predictions, axis=1)"
      ],
      "execution_count": 8,
      "outputs": []
    },
    {
      "cell_type": "code",
      "metadata": {
        "id": "Gy3xZFU8dYZ7"
      },
      "source": [
        "# from sklearn.metrics import classification_report\n",
        "# print(classification_report(yte, predictions))"
      ],
      "execution_count": null,
      "outputs": []
    },
    {
      "cell_type": "code",
      "source": [
        "from sklearn.metrics import classification_report\n",
        "from sklearn.metrics import accuracy_score\n",
        "\n",
        "from sklearn.metrics import confusion_matrix\n",
        "y_true = [0, 0, 2, 2, 0, 1]\n",
        "y_pred = [0, 0, 2, 2, 0, 2]\n",
        "target_names = ['DoubleMask', 'Single_Mask', 'No_mask']\n",
        "print(classification_report(y_true, y_pred, target_names=target_names, digits=4))"
      ],
      "metadata": {
        "colab": {
          "base_uri": "https://localhost:8080/"
        },
        "id": "5CIg95hbzFUk",
        "outputId": "017a367d-241b-4888-fd18-4068b2813c1e"
      },
      "execution_count": 9,
      "outputs": [
        {
          "output_type": "stream",
          "name": "stdout",
          "text": [
            "              precision    recall  f1-score   support\n",
            "\n",
            "  DoubleMask     1.0000    1.0000    1.0000         3\n",
            " Single_Mask     0.0000    0.0000    0.0000         1\n",
            "     No_mask     0.6667    1.0000    0.8000         2\n",
            "\n",
            "    accuracy                         0.8333         6\n",
            "   macro avg     0.5556    0.6667    0.6000         6\n",
            "weighted avg     0.7222    0.8333    0.7667         6\n",
            "\n"
          ]
        },
        {
          "output_type": "stream",
          "name": "stderr",
          "text": [
            "/usr/local/lib/python3.7/dist-packages/sklearn/metrics/_classification.py:1318: UndefinedMetricWarning: Precision and F-score are ill-defined and being set to 0.0 in labels with no predicted samples. Use `zero_division` parameter to control this behavior.\n",
            "  _warn_prf(average, modifier, msg_start, len(result))\n",
            "/usr/local/lib/python3.7/dist-packages/sklearn/metrics/_classification.py:1318: UndefinedMetricWarning: Precision and F-score are ill-defined and being set to 0.0 in labels with no predicted samples. Use `zero_division` parameter to control this behavior.\n",
            "  _warn_prf(average, modifier, msg_start, len(result))\n",
            "/usr/local/lib/python3.7/dist-packages/sklearn/metrics/_classification.py:1318: UndefinedMetricWarning: Precision and F-score are ill-defined and being set to 0.0 in labels with no predicted samples. Use `zero_division` parameter to control this behavior.\n",
            "  _warn_prf(average, modifier, msg_start, len(result))\n"
          ]
        }
      ]
    },
    {
      "cell_type": "markdown",
      "metadata": {
        "id": "DuS1EQ1RFhf8"
      },
      "source": [
        "# Lenet Architecture"
      ]
    },
    {
      "cell_type": "code",
      "metadata": {
        "id": "atcJbxF-DKLf"
      },
      "source": [
        "model2 = Sequential()\n",
        "model2.add(layers.Conv2D(6, kernel_size=(5, 5), activation='relu', input_shape=(224, 224, 3)))\n",
        "model2.add(layers.MaxPooling2D(pool_size=(2, 2)))\n",
        "model2.add(layers.Conv2D(16, kernel_size=(5, 5), activation='relu'))\n",
        "model2.add(layers.MaxPooling2D(pool_size=(2, 2)))\n",
        "model2.add(Flatten())\n",
        "model2.add(layers.Dense(120, activation='relu'))\n",
        "model2.add(layers.Dense(84, activation='relu'))\n",
        "model2.add(layers.Dense(3, activation='softmax'))"
      ],
      "execution_count": 10,
      "outputs": []
    },
    {
      "cell_type": "code",
      "metadata": {
        "id": "3-yuuJ7cDreI"
      },
      "source": [
        "model2.compile(loss='categorical_crossentropy', \n",
        "\t      optimizer='adam',\n",
        "\t      metrics=['acc'])"
      ],
      "execution_count": 11,
      "outputs": []
    },
    {
      "cell_type": "code",
      "metadata": {
        "colab": {
          "base_uri": "https://localhost:8080/"
        },
        "id": "I0eZV-ChDhyo",
        "outputId": "60c57a0e-be30-40be-ce7a-4cfd743de81b"
      },
      "source": [
        "#steps per epoch=279/30;validation_step=120/30\n",
        "model2.fit_generator(x_train,epochs=50,validation_data=x_test)"
      ],
      "execution_count": 12,
      "outputs": [
        {
          "output_type": "stream",
          "name": "stderr",
          "text": [
            "/usr/local/lib/python3.7/dist-packages/ipykernel_launcher.py:2: UserWarning: `Model.fit_generator` is deprecated and will be removed in a future version. Please use `Model.fit`, which supports generators.\n",
            "  \n"
          ]
        },
        {
          "output_type": "stream",
          "name": "stdout",
          "text": [
            "Epoch 1/50\n",
            "12/12 [==============================] - 13s 741ms/step - loss: 1.5709 - acc: 0.4450 - val_loss: 1.0111 - val_acc: 0.4000\n",
            "Epoch 2/50\n",
            "12/12 [==============================] - 7s 580ms/step - loss: 0.9991 - acc: 0.4398 - val_loss: 0.9352 - val_acc: 0.5000\n",
            "Epoch 3/50\n",
            "12/12 [==============================] - 7s 602ms/step - loss: 0.8693 - acc: 0.5524 - val_loss: 0.8366 - val_acc: 0.5929\n",
            "Epoch 4/50\n",
            "12/12 [==============================] - 7s 614ms/step - loss: 0.7533 - acc: 0.6283 - val_loss: 0.7694 - val_acc: 0.6571\n",
            "Epoch 5/50\n",
            "12/12 [==============================] - 7s 618ms/step - loss: 0.6989 - acc: 0.7068 - val_loss: 0.7989 - val_acc: 0.6500\n",
            "Epoch 6/50\n",
            "12/12 [==============================] - 7s 616ms/step - loss: 0.6801 - acc: 0.7094 - val_loss: 0.7672 - val_acc: 0.6929\n",
            "Epoch 7/50\n",
            "12/12 [==============================] - 7s 613ms/step - loss: 0.6093 - acc: 0.7539 - val_loss: 0.7744 - val_acc: 0.6929\n",
            "Epoch 8/50\n",
            "12/12 [==============================] - 7s 610ms/step - loss: 0.6081 - acc: 0.7435 - val_loss: 0.8548 - val_acc: 0.6500\n",
            "Epoch 9/50\n",
            "12/12 [==============================] - 7s 594ms/step - loss: 0.6001 - acc: 0.7356 - val_loss: 0.7821 - val_acc: 0.6714\n",
            "Epoch 10/50\n",
            "12/12 [==============================] - 7s 614ms/step - loss: 0.5334 - acc: 0.7801 - val_loss: 0.8145 - val_acc: 0.6857\n",
            "Epoch 11/50\n",
            "12/12 [==============================] - 8s 638ms/step - loss: 0.5378 - acc: 0.7880 - val_loss: 0.8123 - val_acc: 0.6786\n",
            "Epoch 12/50\n",
            "12/12 [==============================] - 7s 630ms/step - loss: 0.4816 - acc: 0.8168 - val_loss: 0.7970 - val_acc: 0.6714\n",
            "Epoch 13/50\n",
            "12/12 [==============================] - 7s 624ms/step - loss: 0.4718 - acc: 0.8089 - val_loss: 0.8847 - val_acc: 0.6786\n",
            "Epoch 14/50\n",
            "12/12 [==============================] - 8s 654ms/step - loss: 0.4969 - acc: 0.7906 - val_loss: 0.8678 - val_acc: 0.6714\n",
            "Epoch 15/50\n",
            "12/12 [==============================] - 7s 613ms/step - loss: 0.4248 - acc: 0.8298 - val_loss: 0.8541 - val_acc: 0.6714\n",
            "Epoch 16/50\n",
            "12/12 [==============================] - 7s 610ms/step - loss: 0.3871 - acc: 0.8403 - val_loss: 0.9930 - val_acc: 0.6786\n",
            "Epoch 17/50\n",
            "12/12 [==============================] - 7s 588ms/step - loss: 0.3411 - acc: 0.8639 - val_loss: 0.9332 - val_acc: 0.7000\n",
            "Epoch 18/50\n",
            "12/12 [==============================] - 7s 574ms/step - loss: 0.3499 - acc: 0.8743 - val_loss: 0.9136 - val_acc: 0.7000\n",
            "Epoch 19/50\n",
            "12/12 [==============================] - 7s 580ms/step - loss: 0.3718 - acc: 0.8403 - val_loss: 1.0374 - val_acc: 0.6571\n",
            "Epoch 20/50\n",
            "12/12 [==============================] - 7s 569ms/step - loss: 0.3294 - acc: 0.8639 - val_loss: 1.0304 - val_acc: 0.6714\n",
            "Epoch 21/50\n",
            "12/12 [==============================] - 7s 583ms/step - loss: 0.2588 - acc: 0.8979 - val_loss: 1.0396 - val_acc: 0.6500\n",
            "Epoch 22/50\n",
            "12/12 [==============================] - 7s 594ms/step - loss: 0.2870 - acc: 0.8901 - val_loss: 0.9777 - val_acc: 0.6643\n",
            "Epoch 23/50\n",
            "12/12 [==============================] - 7s 603ms/step - loss: 0.2957 - acc: 0.8874 - val_loss: 1.1280 - val_acc: 0.5929\n",
            "Epoch 24/50\n",
            "12/12 [==============================] - 7s 602ms/step - loss: 0.2953 - acc: 0.8796 - val_loss: 1.1748 - val_acc: 0.6357\n",
            "Epoch 25/50\n",
            "12/12 [==============================] - 7s 608ms/step - loss: 0.2818 - acc: 0.8953 - val_loss: 1.1118 - val_acc: 0.6571\n",
            "Epoch 26/50\n",
            "12/12 [==============================] - 7s 600ms/step - loss: 0.1725 - acc: 0.9398 - val_loss: 1.2802 - val_acc: 0.6571\n",
            "Epoch 27/50\n",
            "12/12 [==============================] - 7s 601ms/step - loss: 0.1732 - acc: 0.9319 - val_loss: 1.2253 - val_acc: 0.6714\n",
            "Epoch 28/50\n",
            "12/12 [==============================] - 7s 609ms/step - loss: 0.1653 - acc: 0.9424 - val_loss: 1.2303 - val_acc: 0.6857\n",
            "Epoch 29/50\n",
            "12/12 [==============================] - 7s 595ms/step - loss: 0.1422 - acc: 0.9607 - val_loss: 1.2893 - val_acc: 0.6500\n",
            "Epoch 30/50\n",
            "12/12 [==============================] - 7s 601ms/step - loss: 0.1287 - acc: 0.9450 - val_loss: 1.4456 - val_acc: 0.6571\n",
            "Epoch 31/50\n",
            "12/12 [==============================] - 7s 598ms/step - loss: 0.1111 - acc: 0.9503 - val_loss: 1.3827 - val_acc: 0.6929\n",
            "Epoch 32/50\n",
            "12/12 [==============================] - 7s 598ms/step - loss: 0.1305 - acc: 0.9555 - val_loss: 1.7090 - val_acc: 0.6643\n",
            "Epoch 33/50\n",
            "12/12 [==============================] - 7s 592ms/step - loss: 0.2367 - acc: 0.9162 - val_loss: 1.3336 - val_acc: 0.6500\n",
            "Epoch 34/50\n",
            "12/12 [==============================] - 7s 601ms/step - loss: 0.1299 - acc: 0.9581 - val_loss: 1.4598 - val_acc: 0.6571\n",
            "Epoch 35/50\n",
            "12/12 [==============================] - 7s 591ms/step - loss: 0.1671 - acc: 0.9476 - val_loss: 1.4586 - val_acc: 0.6286\n",
            "Epoch 36/50\n",
            "12/12 [==============================] - 7s 588ms/step - loss: 0.1484 - acc: 0.9555 - val_loss: 1.3536 - val_acc: 0.6643\n",
            "Epoch 37/50\n",
            "12/12 [==============================] - 7s 578ms/step - loss: 0.1260 - acc: 0.9555 - val_loss: 1.7475 - val_acc: 0.6500\n",
            "Epoch 38/50\n",
            "12/12 [==============================] - 7s 602ms/step - loss: 0.1473 - acc: 0.9503 - val_loss: 1.5526 - val_acc: 0.6214\n",
            "Epoch 39/50\n",
            "12/12 [==============================] - 7s 588ms/step - loss: 0.1573 - acc: 0.9476 - val_loss: 1.3493 - val_acc: 0.6643\n",
            "Epoch 40/50\n",
            "12/12 [==============================] - 7s 604ms/step - loss: 0.1279 - acc: 0.9581 - val_loss: 1.5553 - val_acc: 0.6500\n",
            "Epoch 41/50\n",
            "12/12 [==============================] - 7s 616ms/step - loss: 0.1847 - acc: 0.9398 - val_loss: 1.5832 - val_acc: 0.6643\n",
            "Epoch 42/50\n",
            "12/12 [==============================] - 7s 584ms/step - loss: 0.1616 - acc: 0.9293 - val_loss: 1.4497 - val_acc: 0.6929\n",
            "Epoch 43/50\n",
            "12/12 [==============================] - 7s 577ms/step - loss: 0.1625 - acc: 0.9503 - val_loss: 1.4385 - val_acc: 0.6714\n",
            "Epoch 44/50\n",
            "12/12 [==============================] - 7s 607ms/step - loss: 0.1239 - acc: 0.9476 - val_loss: 1.3834 - val_acc: 0.6929\n",
            "Epoch 45/50\n",
            "12/12 [==============================] - 7s 588ms/step - loss: 0.1071 - acc: 0.9634 - val_loss: 1.4634 - val_acc: 0.6714\n",
            "Epoch 46/50\n",
            "12/12 [==============================] - 7s 575ms/step - loss: 0.0666 - acc: 0.9764 - val_loss: 1.4500 - val_acc: 0.7000\n",
            "Epoch 47/50\n",
            "12/12 [==============================] - 7s 571ms/step - loss: 0.0430 - acc: 0.9869 - val_loss: 1.6807 - val_acc: 0.6571\n",
            "Epoch 48/50\n",
            "12/12 [==============================] - 7s 579ms/step - loss: 0.0415 - acc: 0.9895 - val_loss: 2.2872 - val_acc: 0.6429\n",
            "Epoch 49/50\n",
            "12/12 [==============================] - 7s 582ms/step - loss: 0.0391 - acc: 0.9895 - val_loss: 1.8764 - val_acc: 0.6571\n",
            "Epoch 50/50\n",
            "12/12 [==============================] - 7s 573ms/step - loss: 0.0422 - acc: 0.9843 - val_loss: 2.0313 - val_acc: 0.6571\n"
          ]
        },
        {
          "output_type": "execute_result",
          "data": {
            "text/plain": [
              "<keras.callbacks.History at 0x7f81b01b4f90>"
            ]
          },
          "metadata": {},
          "execution_count": 12
        }
      ]
    },
    {
      "cell_type": "markdown",
      "source": [
        "# **Lenet_1**"
      ],
      "metadata": {
        "id": "KGPM2x-Pq7iY"
      }
    },
    {
      "cell_type": "code",
      "source": [
        "model21 = Sequential()\n",
        "model21.add(layers.Conv2D(3, kernel_size=(4, 4), activation='sigmoid', input_shape=(224, 224, 3)))\n",
        "model21.add(layers.MaxPooling2D(pool_size=(2, 2)))\n",
        "model21.add(layers.Conv2D(32, kernel_size=(3, 3), activation='sigmoid'))\n",
        "model21.add(layers.MaxPooling2D(pool_size=(2, 2)))\n",
        "model21.add(Flatten())\n",
        "model21.add(layers.Dense(120, activation='relu'))\n",
        "model21.add(layers.Dense(84, activation='relu'))\n",
        "model21.add(layers.Dense(3, activation='softmax'))"
      ],
      "metadata": {
        "id": "q2R8LQlBq5mc"
      },
      "execution_count": 14,
      "outputs": []
    },
    {
      "cell_type": "code",
      "source": [
        "model21.compile(loss='categorical_crossentropy', \n",
        "\t      optimizer='adagrad',\n",
        "\t      metrics=['acc'])"
      ],
      "metadata": {
        "id": "LOo1GvUYrT7p"
      },
      "execution_count": 16,
      "outputs": []
    },
    {
      "cell_type": "code",
      "source": [
        "model21.fit_generator(x_train,epochs=50,validation_data=x_test)"
      ],
      "metadata": {
        "colab": {
          "base_uri": "https://localhost:8080/"
        },
        "id": "uKk6r_fVrXdQ",
        "outputId": "d644f050-e473-43cb-ca52-c16622f28129"
      },
      "execution_count": 18,
      "outputs": [
        {
          "output_type": "stream",
          "name": "stderr",
          "text": [
            "/usr/local/lib/python3.7/dist-packages/ipykernel_launcher.py:1: UserWarning: `Model.fit_generator` is deprecated and will be removed in a future version. Please use `Model.fit`, which supports generators.\n",
            "  \"\"\"Entry point for launching an IPython kernel.\n"
          ]
        },
        {
          "output_type": "stream",
          "name": "stdout",
          "text": [
            "Epoch 1/50\n",
            "12/12 [==============================] - 8s 625ms/step - loss: 1.0750 - acc: 0.4555 - val_loss: 1.0229 - val_acc: 0.5000\n",
            "Epoch 2/50\n",
            "12/12 [==============================] - 7s 578ms/step - loss: 1.0406 - acc: 0.4817 - val_loss: 1.0226 - val_acc: 0.5000\n",
            "Epoch 3/50\n",
            "12/12 [==============================] - 7s 585ms/step - loss: 1.0452 - acc: 0.4660 - val_loss: 1.0242 - val_acc: 0.5000\n",
            "Epoch 4/50\n",
            "12/12 [==============================] - 7s 581ms/step - loss: 1.0450 - acc: 0.4817 - val_loss: 1.0211 - val_acc: 0.5000\n",
            "Epoch 5/50\n",
            "12/12 [==============================] - 7s 606ms/step - loss: 1.0390 - acc: 0.4817 - val_loss: 1.0210 - val_acc: 0.5000\n",
            "Epoch 6/50\n",
            "12/12 [==============================] - 7s 585ms/step - loss: 1.0564 - acc: 0.4634 - val_loss: 1.0200 - val_acc: 0.5000\n",
            "Epoch 7/50\n",
            "12/12 [==============================] - 7s 572ms/step - loss: 1.0362 - acc: 0.4817 - val_loss: 1.0190 - val_acc: 0.5000\n",
            "Epoch 8/50\n",
            "12/12 [==============================] - 7s 579ms/step - loss: 1.0374 - acc: 0.4817 - val_loss: 1.0215 - val_acc: 0.5000\n",
            "Epoch 9/50\n",
            "12/12 [==============================] - 7s 575ms/step - loss: 1.0365 - acc: 0.4817 - val_loss: 1.0205 - val_acc: 0.5000\n",
            "Epoch 10/50\n",
            "12/12 [==============================] - 7s 574ms/step - loss: 1.0411 - acc: 0.4817 - val_loss: 1.0250 - val_acc: 0.5000\n",
            "Epoch 11/50\n",
            "12/12 [==============================] - 7s 588ms/step - loss: 1.0391 - acc: 0.4817 - val_loss: 1.0202 - val_acc: 0.5000\n",
            "Epoch 12/50\n",
            "12/12 [==============================] - 7s 573ms/step - loss: 1.0365 - acc: 0.4817 - val_loss: 1.0198 - val_acc: 0.5000\n",
            "Epoch 13/50\n",
            "12/12 [==============================] - 7s 576ms/step - loss: 1.0389 - acc: 0.4817 - val_loss: 1.0196 - val_acc: 0.5000\n",
            "Epoch 14/50\n",
            "12/12 [==============================] - 7s 591ms/step - loss: 1.0388 - acc: 0.4817 - val_loss: 1.0372 - val_acc: 0.5000\n",
            "Epoch 15/50\n",
            "12/12 [==============================] - 7s 580ms/step - loss: 1.0382 - acc: 0.4817 - val_loss: 1.0206 - val_acc: 0.5000\n",
            "Epoch 16/50\n",
            "12/12 [==============================] - 7s 625ms/step - loss: 1.0359 - acc: 0.4817 - val_loss: 1.0207 - val_acc: 0.5000\n",
            "Epoch 17/50\n",
            "12/12 [==============================] - 7s 581ms/step - loss: 1.0374 - acc: 0.4817 - val_loss: 1.0197 - val_acc: 0.5000\n",
            "Epoch 18/50\n",
            "12/12 [==============================] - 7s 601ms/step - loss: 1.0354 - acc: 0.4817 - val_loss: 1.0195 - val_acc: 0.5000\n",
            "Epoch 19/50\n",
            "12/12 [==============================] - 7s 575ms/step - loss: 1.0366 - acc: 0.4817 - val_loss: 1.0189 - val_acc: 0.5000\n",
            "Epoch 20/50\n",
            "12/12 [==============================] - 7s 574ms/step - loss: 1.0358 - acc: 0.4817 - val_loss: 1.0188 - val_acc: 0.5000\n",
            "Epoch 21/50\n",
            "12/12 [==============================] - 7s 571ms/step - loss: 1.0359 - acc: 0.4817 - val_loss: 1.0191 - val_acc: 0.5000\n",
            "Epoch 22/50\n",
            "12/12 [==============================] - 7s 572ms/step - loss: 1.0340 - acc: 0.4817 - val_loss: 1.0188 - val_acc: 0.5000\n",
            "Epoch 23/50\n",
            "12/12 [==============================] - 7s 614ms/step - loss: 1.0372 - acc: 0.4817 - val_loss: 1.0189 - val_acc: 0.5000\n",
            "Epoch 24/50\n",
            "12/12 [==============================] - 7s 590ms/step - loss: 1.0369 - acc: 0.4817 - val_loss: 1.0192 - val_acc: 0.5000\n",
            "Epoch 25/50\n",
            "12/12 [==============================] - 7s 584ms/step - loss: 1.0365 - acc: 0.4817 - val_loss: 1.0196 - val_acc: 0.5000\n",
            "Epoch 26/50\n",
            "12/12 [==============================] - 7s 572ms/step - loss: 1.0346 - acc: 0.4817 - val_loss: 1.0189 - val_acc: 0.5000\n",
            "Epoch 27/50\n",
            "12/12 [==============================] - 8s 652ms/step - loss: 1.0381 - acc: 0.4817 - val_loss: 1.0195 - val_acc: 0.5000\n",
            "Epoch 28/50\n",
            "12/12 [==============================] - 7s 580ms/step - loss: 1.0366 - acc: 0.4817 - val_loss: 1.0188 - val_acc: 0.5000\n",
            "Epoch 29/50\n",
            "12/12 [==============================] - 7s 587ms/step - loss: 1.0357 - acc: 0.4817 - val_loss: 1.0209 - val_acc: 0.5000\n",
            "Epoch 30/50\n",
            "12/12 [==============================] - 7s 588ms/step - loss: 1.0346 - acc: 0.4817 - val_loss: 1.0206 - val_acc: 0.5000\n",
            "Epoch 31/50\n",
            "12/12 [==============================] - 7s 597ms/step - loss: 1.0350 - acc: 0.4817 - val_loss: 1.0191 - val_acc: 0.5000\n",
            "Epoch 32/50\n",
            "12/12 [==============================] - 7s 580ms/step - loss: 1.0369 - acc: 0.4817 - val_loss: 1.0190 - val_acc: 0.5000\n",
            "Epoch 33/50\n",
            "12/12 [==============================] - 7s 581ms/step - loss: 1.0361 - acc: 0.4817 - val_loss: 1.0215 - val_acc: 0.5000\n",
            "Epoch 34/50\n",
            "12/12 [==============================] - 7s 603ms/step - loss: 1.0410 - acc: 0.4817 - val_loss: 1.0206 - val_acc: 0.5000\n",
            "Epoch 35/50\n",
            "12/12 [==============================] - 7s 579ms/step - loss: 1.0347 - acc: 0.4817 - val_loss: 1.0188 - val_acc: 0.5000\n",
            "Epoch 36/50\n",
            "12/12 [==============================] - 7s 601ms/step - loss: 1.0373 - acc: 0.4817 - val_loss: 1.0195 - val_acc: 0.5000\n",
            "Epoch 37/50\n",
            "12/12 [==============================] - 7s 604ms/step - loss: 1.0371 - acc: 0.4817 - val_loss: 1.0202 - val_acc: 0.5000\n",
            "Epoch 38/50\n",
            "12/12 [==============================] - 7s 588ms/step - loss: 1.0356 - acc: 0.4817 - val_loss: 1.0208 - val_acc: 0.5000\n",
            "Epoch 39/50\n",
            "12/12 [==============================] - 7s 574ms/step - loss: 1.0358 - acc: 0.4817 - val_loss: 1.0201 - val_acc: 0.5000\n",
            "Epoch 40/50\n",
            "12/12 [==============================] - 7s 598ms/step - loss: 1.0367 - acc: 0.4817 - val_loss: 1.0189 - val_acc: 0.5000\n",
            "Epoch 41/50\n",
            "12/12 [==============================] - 7s 580ms/step - loss: 1.0363 - acc: 0.4817 - val_loss: 1.0190 - val_acc: 0.5000\n",
            "Epoch 42/50\n",
            "12/12 [==============================] - 7s 597ms/step - loss: 1.0355 - acc: 0.4817 - val_loss: 1.0192 - val_acc: 0.5000\n",
            "Epoch 43/50\n",
            "12/12 [==============================] - 7s 586ms/step - loss: 1.0355 - acc: 0.4817 - val_loss: 1.0240 - val_acc: 0.5000\n",
            "Epoch 44/50\n",
            "12/12 [==============================] - 7s 590ms/step - loss: 1.0353 - acc: 0.4817 - val_loss: 1.0206 - val_acc: 0.5000\n",
            "Epoch 45/50\n",
            "12/12 [==============================] - 7s 608ms/step - loss: 1.0330 - acc: 0.4817 - val_loss: 1.0188 - val_acc: 0.5000\n",
            "Epoch 46/50\n",
            "12/12 [==============================] - 7s 600ms/step - loss: 1.0354 - acc: 0.4817 - val_loss: 1.0190 - val_acc: 0.5000\n",
            "Epoch 47/50\n",
            "12/12 [==============================] - 7s 607ms/step - loss: 1.0364 - acc: 0.4817 - val_loss: 1.0223 - val_acc: 0.5000\n",
            "Epoch 48/50\n",
            "12/12 [==============================] - 7s 607ms/step - loss: 1.0369 - acc: 0.4817 - val_loss: 1.0210 - val_acc: 0.5000\n",
            "Epoch 49/50\n",
            "12/12 [==============================] - 7s 600ms/step - loss: 1.0342 - acc: 0.4817 - val_loss: 1.0245 - val_acc: 0.5000\n",
            "Epoch 50/50\n",
            "12/12 [==============================] - 7s 580ms/step - loss: 1.0377 - acc: 0.4817 - val_loss: 1.0200 - val_acc: 0.5000\n"
          ]
        },
        {
          "output_type": "execute_result",
          "data": {
            "text/plain": [
              "<keras.callbacks.History at 0x7f812a24ae10>"
            ]
          },
          "metadata": {},
          "execution_count": 18
        }
      ]
    },
    {
      "cell_type": "markdown",
      "source": [
        "# **Lenet_2**"
      ],
      "metadata": {
        "id": "3I0G9viKsDTZ"
      }
    },
    {
      "cell_type": "code",
      "source": [
        "model22 = Sequential()\n",
        "model22.add(layers.Conv2D(10, kernel_size=(6, 6), activation='tanh', input_shape=(224, 224, 3)))\n",
        "model22.add(layers.MaxPooling2D(pool_size=(2, 2)))\n",
        "model22.add(layers.Conv2D(64, kernel_size=(3, 3), activation='tanh'))\n",
        "model22.add(layers.MaxPooling2D(pool_size=(2, 2)))\n",
        "model22.add(Flatten())\n",
        "model22.add(layers.Dense(180, activation='relu'))\n",
        "model22.add(layers.Dense(84, activation='relu'))\n",
        "model22.add(layers.Dense(3, activation='sigmoid'))"
      ],
      "metadata": {
        "id": "dJPaIu0VsGh9"
      },
      "execution_count": 20,
      "outputs": []
    },
    {
      "cell_type": "code",
      "source": [
        "model22.compile(loss='categorical_crossentropy', \n",
        "\t      optimizer='RmsProp',\n",
        "\t      metrics=['acc'])"
      ],
      "metadata": {
        "id": "WU9fXQtksovb"
      },
      "execution_count": 21,
      "outputs": []
    },
    {
      "cell_type": "code",
      "source": [
        "model22.fit_generator(x_train,epochs=50,validation_data=x_test)"
      ],
      "metadata": {
        "colab": {
          "base_uri": "https://localhost:8080/"
        },
        "id": "QyQUkusDssr_",
        "outputId": "81ea3949-5ed9-40a5-c13d-3ee9613b7444"
      },
      "execution_count": 22,
      "outputs": [
        {
          "output_type": "stream",
          "name": "stderr",
          "text": [
            "/usr/local/lib/python3.7/dist-packages/ipykernel_launcher.py:1: UserWarning: `Model.fit_generator` is deprecated and will be removed in a future version. Please use `Model.fit`, which supports generators.\n",
            "  \"\"\"Entry point for launching an IPython kernel.\n"
          ]
        },
        {
          "output_type": "stream",
          "name": "stdout",
          "text": [
            "Epoch 1/50\n",
            "12/12 [==============================] - 9s 614ms/step - loss: 26.9295 - acc: 0.2932 - val_loss: 1.5866 - val_acc: 0.4643\n",
            "Epoch 2/50\n",
            "12/12 [==============================] - 7s 613ms/step - loss: 1.1441 - acc: 0.5707 - val_loss: 2.0883 - val_acc: 0.5357\n",
            "Epoch 3/50\n",
            "12/12 [==============================] - 8s 646ms/step - loss: 6.6391 - acc: 0.4084 - val_loss: 1.8461 - val_acc: 0.5929\n",
            "Epoch 4/50\n",
            "12/12 [==============================] - 7s 619ms/step - loss: 1.5291 - acc: 0.5419 - val_loss: 0.8512 - val_acc: 0.5643\n",
            "Epoch 5/50\n",
            "12/12 [==============================] - 7s 630ms/step - loss: 0.7349 - acc: 0.6623 - val_loss: 1.0146 - val_acc: 0.6571\n",
            "Epoch 6/50\n",
            "12/12 [==============================] - 7s 591ms/step - loss: 1.1018 - acc: 0.6230 - val_loss: 10.0040 - val_acc: 0.5000\n",
            "Epoch 7/50\n",
            "12/12 [==============================] - 7s 593ms/step - loss: 12.5551 - acc: 0.4136 - val_loss: 16.4875 - val_acc: 0.5429\n",
            "Epoch 8/50\n",
            "12/12 [==============================] - 7s 596ms/step - loss: 3.4442 - acc: 0.5131 - val_loss: 3.3834 - val_acc: 0.6000\n",
            "Epoch 9/50\n",
            "12/12 [==============================] - 7s 602ms/step - loss: 0.9852 - acc: 0.6728 - val_loss: 0.7507 - val_acc: 0.6214\n",
            "Epoch 10/50\n",
            "12/12 [==============================] - 7s 597ms/step - loss: 2.0242 - acc: 0.5785 - val_loss: 7.0131 - val_acc: 0.3429\n",
            "Epoch 11/50\n",
            "12/12 [==============================] - 7s 625ms/step - loss: 2.3705 - acc: 0.4712 - val_loss: 0.9617 - val_acc: 0.6071\n",
            "Epoch 12/50\n",
            "12/12 [==============================] - 7s 594ms/step - loss: 1.4284 - acc: 0.5995 - val_loss: 1.8061 - val_acc: 0.6143\n",
            "Epoch 13/50\n",
            "12/12 [==============================] - 7s 596ms/step - loss: 0.8290 - acc: 0.6806 - val_loss: 0.7926 - val_acc: 0.6357\n",
            "Epoch 14/50\n",
            "12/12 [==============================] - 7s 597ms/step - loss: 2.9223 - acc: 0.5314 - val_loss: 12.8090 - val_acc: 0.1857\n",
            "Epoch 15/50\n",
            "12/12 [==============================] - 7s 596ms/step - loss: 3.6240 - acc: 0.5157 - val_loss: 0.7918 - val_acc: 0.6429\n",
            "Epoch 16/50\n",
            "12/12 [==============================] - 7s 606ms/step - loss: 0.6434 - acc: 0.7251 - val_loss: 1.1034 - val_acc: 0.6643\n",
            "Epoch 17/50\n",
            "12/12 [==============================] - 7s 616ms/step - loss: 2.1321 - acc: 0.6387 - val_loss: 2.8561 - val_acc: 0.4143\n",
            "Epoch 18/50\n",
            "12/12 [==============================] - 7s 625ms/step - loss: 2.5796 - acc: 0.5288 - val_loss: 1.0545 - val_acc: 0.7000\n",
            "Epoch 19/50\n",
            "12/12 [==============================] - 7s 602ms/step - loss: 0.7084 - acc: 0.7016 - val_loss: 0.8674 - val_acc: 0.6929\n",
            "Epoch 20/50\n",
            "12/12 [==============================] - 7s 597ms/step - loss: 1.1299 - acc: 0.7068 - val_loss: 2.1113 - val_acc: 0.5929\n",
            "Epoch 21/50\n",
            "12/12 [==============================] - 7s 590ms/step - loss: 1.5954 - acc: 0.6492 - val_loss: 1.0282 - val_acc: 0.5286\n",
            "Epoch 22/50\n",
            "12/12 [==============================] - 7s 579ms/step - loss: 1.2783 - acc: 0.6806 - val_loss: 3.8272 - val_acc: 0.4071\n",
            "Epoch 23/50\n",
            "12/12 [==============================] - 7s 591ms/step - loss: 1.6823 - acc: 0.5812 - val_loss: 0.7686 - val_acc: 0.6357\n",
            "Epoch 24/50\n",
            "12/12 [==============================] - 7s 619ms/step - loss: 0.6376 - acc: 0.7382 - val_loss: 0.8180 - val_acc: 0.6000\n",
            "Epoch 25/50\n",
            "12/12 [==============================] - 7s 598ms/step - loss: 1.0767 - acc: 0.6047 - val_loss: 1.5733 - val_acc: 0.6143\n",
            "Epoch 26/50\n",
            "12/12 [==============================] - 8s 673ms/step - loss: 0.9166 - acc: 0.6571 - val_loss: 0.7515 - val_acc: 0.6929\n",
            "Epoch 27/50\n",
            "12/12 [==============================] - 7s 593ms/step - loss: 0.5707 - acc: 0.7670 - val_loss: 0.9298 - val_acc: 0.5500\n",
            "Epoch 28/50\n",
            "12/12 [==============================] - 7s 620ms/step - loss: 1.4038 - acc: 0.6309 - val_loss: 1.4117 - val_acc: 0.3929\n",
            "Epoch 29/50\n",
            "12/12 [==============================] - 7s 605ms/step - loss: 0.6726 - acc: 0.7120 - val_loss: 0.7842 - val_acc: 0.6714\n",
            "Epoch 30/50\n",
            "12/12 [==============================] - 7s 603ms/step - loss: 0.7182 - acc: 0.7618 - val_loss: 2.0846 - val_acc: 0.4643\n",
            "Epoch 31/50\n",
            "12/12 [==============================] - 8s 626ms/step - loss: 1.1247 - acc: 0.6937 - val_loss: 1.3160 - val_acc: 0.4357\n",
            "Epoch 32/50\n",
            "12/12 [==============================] - 7s 601ms/step - loss: 0.4423 - acc: 0.8063 - val_loss: 0.8895 - val_acc: 0.7214\n",
            "Epoch 33/50\n",
            "12/12 [==============================] - 7s 602ms/step - loss: 1.5273 - acc: 0.6126 - val_loss: 1.3362 - val_acc: 0.5929\n",
            "Epoch 34/50\n",
            "12/12 [==============================] - 7s 600ms/step - loss: 0.5601 - acc: 0.7513 - val_loss: 0.9888 - val_acc: 0.6429\n",
            "Epoch 35/50\n",
            "12/12 [==============================] - 7s 590ms/step - loss: 0.5054 - acc: 0.7775 - val_loss: 1.1845 - val_acc: 0.5357\n",
            "Epoch 36/50\n",
            "12/12 [==============================] - 7s 583ms/step - loss: 0.6071 - acc: 0.7565 - val_loss: 0.9499 - val_acc: 0.6286\n",
            "Epoch 37/50\n",
            "12/12 [==============================] - 7s 574ms/step - loss: 1.4967 - acc: 0.6859 - val_loss: 0.9955 - val_acc: 0.6571\n",
            "Epoch 38/50\n",
            "12/12 [==============================] - 7s 595ms/step - loss: 0.3450 - acc: 0.8586 - val_loss: 1.0284 - val_acc: 0.6929\n",
            "Epoch 39/50\n",
            "12/12 [==============================] - 7s 599ms/step - loss: 0.4336 - acc: 0.8560 - val_loss: 1.1940 - val_acc: 0.6286\n",
            "Epoch 40/50\n",
            "12/12 [==============================] - 7s 609ms/step - loss: 0.8101 - acc: 0.7513 - val_loss: 1.2849 - val_acc: 0.6429\n",
            "Epoch 41/50\n",
            "12/12 [==============================] - 7s 613ms/step - loss: 0.4071 - acc: 0.8325 - val_loss: 1.0354 - val_acc: 0.6357\n",
            "Epoch 42/50\n",
            "12/12 [==============================] - 7s 631ms/step - loss: 0.8609 - acc: 0.7696 - val_loss: 2.2711 - val_acc: 0.4429\n",
            "Epoch 43/50\n",
            "12/12 [==============================] - 7s 596ms/step - loss: 0.5152 - acc: 0.8063 - val_loss: 1.1406 - val_acc: 0.5357\n",
            "Epoch 44/50\n",
            "12/12 [==============================] - 7s 623ms/step - loss: 0.5012 - acc: 0.8115 - val_loss: 1.6943 - val_acc: 0.6000\n",
            "Epoch 45/50\n",
            "12/12 [==============================] - 7s 619ms/step - loss: 0.4500 - acc: 0.8272 - val_loss: 0.8796 - val_acc: 0.6714\n",
            "Epoch 46/50\n",
            "12/12 [==============================] - 7s 598ms/step - loss: 0.2480 - acc: 0.9162 - val_loss: 1.3886 - val_acc: 0.6786\n",
            "Epoch 47/50\n",
            "12/12 [==============================] - 7s 594ms/step - loss: 1.2388 - acc: 0.6911 - val_loss: 1.0154 - val_acc: 0.6571\n",
            "Epoch 48/50\n",
            "12/12 [==============================] - 7s 614ms/step - loss: 0.3053 - acc: 0.8927 - val_loss: 0.9615 - val_acc: 0.6857\n",
            "Epoch 49/50\n",
            "12/12 [==============================] - 7s 602ms/step - loss: 0.2528 - acc: 0.9058 - val_loss: 1.2142 - val_acc: 0.6643\n",
            "Epoch 50/50\n",
            "12/12 [==============================] - 7s 605ms/step - loss: 0.5452 - acc: 0.8613 - val_loss: 1.9071 - val_acc: 0.4286\n"
          ]
        },
        {
          "output_type": "execute_result",
          "data": {
            "text/plain": [
              "<keras.callbacks.History at 0x7f812a103150>"
            ]
          },
          "metadata": {},
          "execution_count": 22
        }
      ]
    },
    {
      "cell_type": "markdown",
      "source": [
        "# **Lenet_3**"
      ],
      "metadata": {
        "id": "UuePCIvguk9n"
      }
    },
    {
      "cell_type": "code",
      "source": [
        "model23 = Sequential()\n",
        "model23.add(layers.Conv2D(32, kernel_size=(8, 8), activation='tanh', input_shape=(224, 224, 3)))\n",
        "model23.add(layers.MaxPooling2D(pool_size=(2, 2)))\n",
        "model23.add(layers.Conv2D(120, kernel_size=(8, 8), activation='tanh'))\n",
        "model23.add(layers.MaxPooling2D(pool_size=(2, 2)))\n",
        "model23.add(Flatten())\n",
        "model23.add(layers.Dense(240, activation='sigmoid'))\n",
        "model23.add(layers.Dense(84, activation='sigmoid'))\n",
        "model23.add(layers.Dense(3, activation='softmax'))"
      ],
      "metadata": {
        "id": "_w9AKDmQuklx"
      },
      "execution_count": 24,
      "outputs": []
    },
    {
      "cell_type": "code",
      "source": [
        "model23.compile(loss='categorical_crossentropy', \n",
        "\t      optimizer='Adadelta',\n",
        "\t      metrics=['acc'])"
      ],
      "metadata": {
        "id": "ESEuCVY7uxi_"
      },
      "execution_count": 25,
      "outputs": []
    },
    {
      "cell_type": "markdown",
      "source": [
        "here we used optimizer as adadelta.And we observed that from the starting to ending all the epochs recorded with same accuracy."
      ],
      "metadata": {
        "id": "QP-o4QkyhtPV"
      }
    },
    {
      "cell_type": "code",
      "source": [
        "model23.fit_generator(x_train,epochs=50,validation_data=x_test)"
      ],
      "metadata": {
        "colab": {
          "base_uri": "https://localhost:8080/"
        },
        "id": "7inoEnfYu0QB",
        "outputId": "da4f2cc1-8b27-4b25-f193-7ebc38451127"
      },
      "execution_count": 26,
      "outputs": [
        {
          "output_type": "stream",
          "name": "stderr",
          "text": [
            "/usr/local/lib/python3.7/dist-packages/ipykernel_launcher.py:1: UserWarning: `Model.fit_generator` is deprecated and will be removed in a future version. Please use `Model.fit`, which supports generators.\n",
            "  \"\"\"Entry point for launching an IPython kernel.\n"
          ]
        },
        {
          "output_type": "stream",
          "name": "stdout",
          "text": [
            "Epoch 1/50\n",
            "12/12 [==============================] - 11s 751ms/step - loss: 1.0515 - acc: 0.4817 - val_loss: 1.0400 - val_acc: 0.5000\n",
            "Epoch 2/50\n",
            "12/12 [==============================] - 8s 636ms/step - loss: 1.0452 - acc: 0.4817 - val_loss: 1.0334 - val_acc: 0.5000\n",
            "Epoch 3/50\n",
            "12/12 [==============================] - 8s 644ms/step - loss: 1.0397 - acc: 0.4817 - val_loss: 1.0282 - val_acc: 0.5000\n",
            "Epoch 4/50\n",
            "12/12 [==============================] - 7s 629ms/step - loss: 1.0351 - acc: 0.4817 - val_loss: 1.0240 - val_acc: 0.5000\n",
            "Epoch 5/50\n",
            "12/12 [==============================] - 7s 622ms/step - loss: 1.0328 - acc: 0.4817 - val_loss: 1.0207 - val_acc: 0.5000\n",
            "Epoch 6/50\n",
            "12/12 [==============================] - 8s 652ms/step - loss: 1.0297 - acc: 0.4817 - val_loss: 1.0181 - val_acc: 0.5000\n",
            "Epoch 7/50\n",
            "12/12 [==============================] - 8s 646ms/step - loss: 1.0279 - acc: 0.4817 - val_loss: 1.0159 - val_acc: 0.5000\n",
            "Epoch 8/50\n",
            "12/12 [==============================] - 8s 641ms/step - loss: 1.0272 - acc: 0.4817 - val_loss: 1.0141 - val_acc: 0.5000\n",
            "Epoch 9/50\n",
            "12/12 [==============================] - 8s 641ms/step - loss: 1.0250 - acc: 0.4817 - val_loss: 1.0126 - val_acc: 0.5000\n",
            "Epoch 10/50\n",
            "12/12 [==============================] - 7s 611ms/step - loss: 1.0244 - acc: 0.4817 - val_loss: 1.0113 - val_acc: 0.5000\n",
            "Epoch 11/50\n",
            "12/12 [==============================] - 7s 626ms/step - loss: 1.0226 - acc: 0.4817 - val_loss: 1.0102 - val_acc: 0.5000\n",
            "Epoch 12/50\n",
            "12/12 [==============================] - 7s 626ms/step - loss: 1.0220 - acc: 0.4817 - val_loss: 1.0091 - val_acc: 0.5000\n",
            "Epoch 13/50\n",
            "12/12 [==============================] - 7s 614ms/step - loss: 1.0207 - acc: 0.4817 - val_loss: 1.0081 - val_acc: 0.5000\n",
            "Epoch 14/50\n",
            "12/12 [==============================] - 7s 619ms/step - loss: 1.0208 - acc: 0.4817 - val_loss: 1.0074 - val_acc: 0.5000\n",
            "Epoch 15/50\n",
            "12/12 [==============================] - 7s 614ms/step - loss: 1.0201 - acc: 0.4817 - val_loss: 1.0067 - val_acc: 0.5000\n",
            "Epoch 16/50\n",
            "12/12 [==============================] - 7s 611ms/step - loss: 1.0194 - acc: 0.4817 - val_loss: 1.0060 - val_acc: 0.5000\n",
            "Epoch 17/50\n",
            "12/12 [==============================] - 7s 632ms/step - loss: 1.0179 - acc: 0.4817 - val_loss: 1.0053 - val_acc: 0.5000\n",
            "Epoch 18/50\n",
            "12/12 [==============================] - 9s 738ms/step - loss: 1.0177 - acc: 0.4817 - val_loss: 1.0046 - val_acc: 0.5000\n",
            "Epoch 19/50\n",
            "12/12 [==============================] - 9s 717ms/step - loss: 1.0179 - acc: 0.4817 - val_loss: 1.0041 - val_acc: 0.5000\n",
            "Epoch 20/50\n",
            "12/12 [==============================] - 8s 633ms/step - loss: 1.0176 - acc: 0.4817 - val_loss: 1.0035 - val_acc: 0.5000\n",
            "Epoch 21/50\n",
            "12/12 [==============================] - 8s 630ms/step - loss: 1.0155 - acc: 0.4817 - val_loss: 1.0029 - val_acc: 0.5000\n",
            "Epoch 22/50\n",
            "12/12 [==============================] - 7s 619ms/step - loss: 1.0158 - acc: 0.4817 - val_loss: 1.0023 - val_acc: 0.5000\n",
            "Epoch 23/50\n",
            "12/12 [==============================] - 7s 607ms/step - loss: 1.0144 - acc: 0.4817 - val_loss: 1.0017 - val_acc: 0.5000\n",
            "Epoch 24/50\n",
            "12/12 [==============================] - 7s 628ms/step - loss: 1.0144 - acc: 0.4817 - val_loss: 1.0012 - val_acc: 0.5000\n",
            "Epoch 25/50\n",
            "12/12 [==============================] - 7s 618ms/step - loss: 1.0128 - acc: 0.4817 - val_loss: 1.0006 - val_acc: 0.5000\n",
            "Epoch 26/50\n",
            "12/12 [==============================] - 8s 642ms/step - loss: 1.0122 - acc: 0.4817 - val_loss: 1.0000 - val_acc: 0.5000\n",
            "Epoch 27/50\n",
            "12/12 [==============================] - 7s 620ms/step - loss: 1.0132 - acc: 0.4817 - val_loss: 0.9995 - val_acc: 0.5000\n",
            "Epoch 28/50\n",
            "12/12 [==============================] - 8s 616ms/step - loss: 1.0129 - acc: 0.4817 - val_loss: 0.9990 - val_acc: 0.5000\n",
            "Epoch 29/50\n",
            "12/12 [==============================] - 7s 620ms/step - loss: 1.0126 - acc: 0.4817 - val_loss: 0.9985 - val_acc: 0.5000\n",
            "Epoch 30/50\n",
            "12/12 [==============================] - 7s 612ms/step - loss: 1.0107 - acc: 0.4817 - val_loss: 0.9979 - val_acc: 0.5000\n",
            "Epoch 31/50\n",
            "12/12 [==============================] - 7s 622ms/step - loss: 1.0108 - acc: 0.4817 - val_loss: 0.9973 - val_acc: 0.5000\n",
            "Epoch 32/50\n",
            "12/12 [==============================] - 8s 631ms/step - loss: 1.0115 - acc: 0.4817 - val_loss: 0.9968 - val_acc: 0.5000\n",
            "Epoch 33/50\n",
            "12/12 [==============================] - 8s 677ms/step - loss: 1.0102 - acc: 0.4817 - val_loss: 0.9963 - val_acc: 0.5000\n",
            "Epoch 34/50\n",
            "12/12 [==============================] - 7s 624ms/step - loss: 1.0087 - acc: 0.4817 - val_loss: 0.9957 - val_acc: 0.5000\n",
            "Epoch 35/50\n",
            "12/12 [==============================] - 7s 611ms/step - loss: 1.0087 - acc: 0.4817 - val_loss: 0.9952 - val_acc: 0.5000\n",
            "Epoch 36/50\n",
            "12/12 [==============================] - 8s 634ms/step - loss: 1.0084 - acc: 0.4817 - val_loss: 0.9946 - val_acc: 0.5000\n",
            "Epoch 37/50\n",
            "12/12 [==============================] - 7s 624ms/step - loss: 1.0082 - acc: 0.4817 - val_loss: 0.9941 - val_acc: 0.5000\n",
            "Epoch 38/50\n",
            "12/12 [==============================] - 7s 608ms/step - loss: 1.0057 - acc: 0.4817 - val_loss: 0.9935 - val_acc: 0.5000\n",
            "Epoch 39/50\n",
            "12/12 [==============================] - 7s 601ms/step - loss: 1.0053 - acc: 0.4817 - val_loss: 0.9929 - val_acc: 0.5000\n",
            "Epoch 40/50\n",
            "12/12 [==============================] - 7s 625ms/step - loss: 1.0057 - acc: 0.4817 - val_loss: 0.9923 - val_acc: 0.5000\n",
            "Epoch 41/50\n",
            "12/12 [==============================] - 7s 608ms/step - loss: 1.0039 - acc: 0.4817 - val_loss: 0.9918 - val_acc: 0.5000\n",
            "Epoch 42/50\n",
            "12/12 [==============================] - 7s 611ms/step - loss: 1.0029 - acc: 0.4817 - val_loss: 0.9911 - val_acc: 0.5000\n",
            "Epoch 43/50\n",
            "12/12 [==============================] - 8s 652ms/step - loss: 1.0042 - acc: 0.4817 - val_loss: 0.9905 - val_acc: 0.5000\n",
            "Epoch 44/50\n",
            "12/12 [==============================] - 7s 609ms/step - loss: 1.0027 - acc: 0.4817 - val_loss: 0.9899 - val_acc: 0.5000\n",
            "Epoch 45/50\n",
            "12/12 [==============================] - 7s 617ms/step - loss: 1.0017 - acc: 0.4817 - val_loss: 0.9893 - val_acc: 0.5000\n",
            "Epoch 46/50\n",
            "12/12 [==============================] - 7s 615ms/step - loss: 1.0003 - acc: 0.4817 - val_loss: 0.9887 - val_acc: 0.5000\n",
            "Epoch 47/50\n",
            "12/12 [==============================] - 8s 667ms/step - loss: 1.0016 - acc: 0.4817 - val_loss: 0.9881 - val_acc: 0.5000\n",
            "Epoch 48/50\n",
            "12/12 [==============================] - 8s 627ms/step - loss: 1.0010 - acc: 0.4817 - val_loss: 0.9875 - val_acc: 0.5000\n",
            "Epoch 49/50\n",
            "12/12 [==============================] - 8s 635ms/step - loss: 1.0004 - acc: 0.4817 - val_loss: 0.9870 - val_acc: 0.5000\n",
            "Epoch 50/50\n",
            "12/12 [==============================] - 7s 611ms/step - loss: 0.9977 - acc: 0.4817 - val_loss: 0.9863 - val_acc: 0.5000\n"
          ]
        },
        {
          "output_type": "execute_result",
          "data": {
            "text/plain": [
              "<keras.callbacks.History at 0x7f81186b8190>"
            ]
          },
          "metadata": {},
          "execution_count": 26
        }
      ]
    },
    {
      "cell_type": "markdown",
      "source": [
        "# **Lenet_4**"
      ],
      "metadata": {
        "id": "O_LfXMCCyEH8"
      }
    },
    {
      "cell_type": "code",
      "source": [
        "model24 = Sequential()\n",
        "model24.add(layers.Conv2D(12, kernel_size=(8, 8), activation='softmax', input_shape=(224, 224, 3)))\n",
        "model24.add(layers.MaxPooling2D(pool_size=(2, 2)))\n",
        "model24.add(layers.Conv2D(16, kernel_size=(5, 5), activation='tanh'))\n",
        "model24.add(layers.MaxPooling2D(pool_size=(2, 2)))\n",
        "model24.add(Flatten())\n",
        "model24.add(layers.Dense(140, activation='relu'))\n",
        "model24.add(layers.Dense(64, activation='tanh'))\n",
        "model24.add(layers.Dense(3, activation='softmax'))"
      ],
      "metadata": {
        "id": "2ooUk0bQyIv1"
      },
      "execution_count": 32,
      "outputs": []
    },
    {
      "cell_type": "code",
      "source": [
        "model24.compile(loss='categorical_crossentropy', \n",
        "\t      optimizer='RmsProp',\n",
        "\t      metrics=['acc'])"
      ],
      "metadata": {
        "id": "K6rP3s_wy6Yh"
      },
      "execution_count": 33,
      "outputs": []
    },
    {
      "cell_type": "code",
      "source": [
        "model23.fit_generator(x_train,epochs=50,validation_data=x_test)"
      ],
      "metadata": {
        "colab": {
          "base_uri": "https://localhost:8080/"
        },
        "id": "SGJDL7Hdy9_5",
        "outputId": "14cb6c4d-64b9-4220-cc82-fac2211b75db"
      },
      "execution_count": 34,
      "outputs": [
        {
          "output_type": "stream",
          "name": "stderr",
          "text": [
            "/usr/local/lib/python3.7/dist-packages/ipykernel_launcher.py:1: UserWarning: `Model.fit_generator` is deprecated and will be removed in a future version. Please use `Model.fit`, which supports generators.\n",
            "  \"\"\"Entry point for launching an IPython kernel.\n"
          ]
        },
        {
          "output_type": "stream",
          "name": "stdout",
          "text": [
            "Epoch 1/50\n",
            "12/12 [==============================] - 7s 620ms/step - loss: 0.9727 - acc: 0.4817 - val_loss: 0.9619 - val_acc: 0.5000\n",
            "Epoch 2/50\n",
            "12/12 [==============================] - 8s 636ms/step - loss: 0.9727 - acc: 0.4817 - val_loss: 0.9608 - val_acc: 0.5000\n",
            "Epoch 3/50\n",
            "12/12 [==============================] - 8s 653ms/step - loss: 0.9732 - acc: 0.4817 - val_loss: 0.9599 - val_acc: 0.5000\n",
            "Epoch 4/50\n",
            "12/12 [==============================] - 8s 638ms/step - loss: 0.9695 - acc: 0.4817 - val_loss: 0.9590 - val_acc: 0.5000\n",
            "Epoch 5/50\n",
            "12/12 [==============================] - 8s 632ms/step - loss: 0.9704 - acc: 0.4817 - val_loss: 0.9580 - val_acc: 0.5000\n",
            "Epoch 6/50\n",
            "12/12 [==============================] - 8s 633ms/step - loss: 0.9673 - acc: 0.4817 - val_loss: 0.9569 - val_acc: 0.5000\n",
            "Epoch 7/50\n",
            "12/12 [==============================] - 7s 617ms/step - loss: 0.9657 - acc: 0.4817 - val_loss: 0.9559 - val_acc: 0.5000\n",
            "Epoch 8/50\n",
            "12/12 [==============================] - 8s 640ms/step - loss: 0.9668 - acc: 0.4817 - val_loss: 0.9552 - val_acc: 0.5000\n",
            "Epoch 9/50\n",
            "12/12 [==============================] - 8s 635ms/step - loss: 0.9632 - acc: 0.4817 - val_loss: 0.9542 - val_acc: 0.5000\n",
            "Epoch 10/50\n",
            "12/12 [==============================] - 7s 614ms/step - loss: 0.9651 - acc: 0.4843 - val_loss: 0.9532 - val_acc: 0.5000\n",
            "Epoch 11/50\n",
            "12/12 [==============================] - 7s 623ms/step - loss: 0.9677 - acc: 0.4817 - val_loss: 0.9524 - val_acc: 0.5000\n",
            "Epoch 12/50\n",
            "12/12 [==============================] - 7s 613ms/step - loss: 0.9663 - acc: 0.4843 - val_loss: 0.9516 - val_acc: 0.5000\n",
            "Epoch 13/50\n",
            "12/12 [==============================] - 7s 630ms/step - loss: 0.9639 - acc: 0.4843 - val_loss: 0.9506 - val_acc: 0.5000\n",
            "Epoch 14/50\n",
            "12/12 [==============================] - 8s 640ms/step - loss: 0.9609 - acc: 0.4817 - val_loss: 0.9498 - val_acc: 0.5000\n",
            "Epoch 15/50\n",
            "12/12 [==============================] - 7s 615ms/step - loss: 0.9633 - acc: 0.4817 - val_loss: 0.9489 - val_acc: 0.5000\n",
            "Epoch 16/50\n",
            "12/12 [==============================] - 7s 605ms/step - loss: 0.9589 - acc: 0.4843 - val_loss: 0.9480 - val_acc: 0.5000\n",
            "Epoch 17/50\n",
            "12/12 [==============================] - 7s 603ms/step - loss: 0.9618 - acc: 0.4843 - val_loss: 0.9471 - val_acc: 0.5000\n",
            "Epoch 18/50\n",
            "12/12 [==============================] - 7s 604ms/step - loss: 0.9565 - acc: 0.4895 - val_loss: 0.9462 - val_acc: 0.5000\n",
            "Epoch 19/50\n",
            "12/12 [==============================] - 7s 615ms/step - loss: 0.9577 - acc: 0.4843 - val_loss: 0.9451 - val_acc: 0.5000\n",
            "Epoch 20/50\n",
            "12/12 [==============================] - 7s 611ms/step - loss: 0.9568 - acc: 0.4895 - val_loss: 0.9443 - val_acc: 0.5000\n",
            "Epoch 21/50\n",
            "12/12 [==============================] - 7s 608ms/step - loss: 0.9528 - acc: 0.4895 - val_loss: 0.9431 - val_acc: 0.5000\n",
            "Epoch 22/50\n",
            "12/12 [==============================] - 7s 620ms/step - loss: 0.9502 - acc: 0.4895 - val_loss: 0.9419 - val_acc: 0.5000\n",
            "Epoch 23/50\n",
            "12/12 [==============================] - 8s 638ms/step - loss: 0.9548 - acc: 0.4948 - val_loss: 0.9409 - val_acc: 0.5000\n",
            "Epoch 24/50\n",
            "12/12 [==============================] - 8s 638ms/step - loss: 0.9540 - acc: 0.4869 - val_loss: 0.9400 - val_acc: 0.5000\n",
            "Epoch 25/50\n",
            "12/12 [==============================] - 8s 634ms/step - loss: 0.9492 - acc: 0.4974 - val_loss: 0.9390 - val_acc: 0.5000\n",
            "Epoch 26/50\n",
            "12/12 [==============================] - 8s 640ms/step - loss: 0.9491 - acc: 0.4974 - val_loss: 0.9381 - val_acc: 0.5000\n",
            "Epoch 27/50\n",
            "12/12 [==============================] - 7s 618ms/step - loss: 0.9470 - acc: 0.4948 - val_loss: 0.9373 - val_acc: 0.5000\n",
            "Epoch 28/50\n",
            "12/12 [==============================] - 7s 607ms/step - loss: 0.9455 - acc: 0.5052 - val_loss: 0.9361 - val_acc: 0.5000\n",
            "Epoch 29/50\n",
            "12/12 [==============================] - 7s 594ms/step - loss: 0.9471 - acc: 0.5000 - val_loss: 0.9350 - val_acc: 0.5000\n",
            "Epoch 30/50\n",
            "12/12 [==============================] - 7s 612ms/step - loss: 0.9467 - acc: 0.5026 - val_loss: 0.9341 - val_acc: 0.5000\n",
            "Epoch 31/50\n",
            "12/12 [==============================] - 8s 625ms/step - loss: 0.9413 - acc: 0.5026 - val_loss: 0.9332 - val_acc: 0.5000\n",
            "Epoch 32/50\n",
            "12/12 [==============================] - 7s 624ms/step - loss: 0.9433 - acc: 0.4948 - val_loss: 0.9321 - val_acc: 0.5071\n",
            "Epoch 33/50\n",
            "12/12 [==============================] - 7s 619ms/step - loss: 0.9432 - acc: 0.5026 - val_loss: 0.9313 - val_acc: 0.5143\n",
            "Epoch 34/50\n",
            "12/12 [==============================] - 7s 626ms/step - loss: 0.9441 - acc: 0.5079 - val_loss: 0.9302 - val_acc: 0.5143\n",
            "Epoch 35/50\n",
            "12/12 [==============================] - 7s 625ms/step - loss: 0.9430 - acc: 0.5052 - val_loss: 0.9295 - val_acc: 0.5143\n",
            "Epoch 36/50\n",
            "12/12 [==============================] - 7s 617ms/step - loss: 0.9391 - acc: 0.5131 - val_loss: 0.9283 - val_acc: 0.5143\n",
            "Epoch 37/50\n",
            "12/12 [==============================] - 7s 614ms/step - loss: 0.9418 - acc: 0.5026 - val_loss: 0.9272 - val_acc: 0.5143\n",
            "Epoch 38/50\n",
            "12/12 [==============================] - 7s 603ms/step - loss: 0.9346 - acc: 0.5105 - val_loss: 0.9264 - val_acc: 0.5214\n",
            "Epoch 39/50\n",
            "12/12 [==============================] - 8s 645ms/step - loss: 0.9330 - acc: 0.5105 - val_loss: 0.9253 - val_acc: 0.5214\n",
            "Epoch 40/50\n",
            "12/12 [==============================] - 8s 653ms/step - loss: 0.9347 - acc: 0.5131 - val_loss: 0.9243 - val_acc: 0.5214\n",
            "Epoch 41/50\n",
            "12/12 [==============================] - 7s 603ms/step - loss: 0.9342 - acc: 0.5079 - val_loss: 0.9232 - val_acc: 0.5214\n",
            "Epoch 42/50\n",
            "12/12 [==============================] - 7s 606ms/step - loss: 0.9355 - acc: 0.5105 - val_loss: 0.9223 - val_acc: 0.5214\n",
            "Epoch 43/50\n",
            "12/12 [==============================] - 7s 617ms/step - loss: 0.9299 - acc: 0.5157 - val_loss: 0.9211 - val_acc: 0.5214\n",
            "Epoch 44/50\n",
            "12/12 [==============================] - 7s 608ms/step - loss: 0.9282 - acc: 0.5157 - val_loss: 0.9203 - val_acc: 0.5286\n",
            "Epoch 45/50\n",
            "12/12 [==============================] - 7s 606ms/step - loss: 0.9298 - acc: 0.5131 - val_loss: 0.9195 - val_acc: 0.5429\n",
            "Epoch 46/50\n",
            "12/12 [==============================] - 7s 611ms/step - loss: 0.9271 - acc: 0.5131 - val_loss: 0.9184 - val_acc: 0.5357\n",
            "Epoch 47/50\n",
            "12/12 [==============================] - 7s 608ms/step - loss: 0.9257 - acc: 0.5340 - val_loss: 0.9169 - val_acc: 0.5357\n",
            "Epoch 48/50\n",
            "12/12 [==============================] - 7s 613ms/step - loss: 0.9250 - acc: 0.5209 - val_loss: 0.9163 - val_acc: 0.5357\n",
            "Epoch 49/50\n",
            "12/12 [==============================] - 7s 628ms/step - loss: 0.9258 - acc: 0.5314 - val_loss: 0.9152 - val_acc: 0.5357\n",
            "Epoch 50/50\n",
            "12/12 [==============================] - 8s 646ms/step - loss: 0.9276 - acc: 0.5209 - val_loss: 0.9144 - val_acc: 0.5357\n"
          ]
        },
        {
          "output_type": "execute_result",
          "data": {
            "text/plain": [
              "<keras.callbacks.History at 0x7f81183b2410>"
            ]
          },
          "metadata": {},
          "execution_count": 34
        }
      ]
    },
    {
      "cell_type": "markdown",
      "source": [
        "# **Lenet_5**"
      ],
      "metadata": {
        "id": "4NScIZrEzG4d"
      }
    },
    {
      "cell_type": "code",
      "source": [
        "model25 = Sequential()\n",
        "model25.add(layers.Conv2D(20, kernel_size=(18, 18), activation='softmax', input_shape=(224, 224, 3)))\n",
        "model25.add(layers.MaxPooling2D(pool_size=(2, 2)))\n",
        "model25.add(layers.Conv2D(32, kernel_size=(5, 5), activation='relu'))\n",
        "model25.add(layers.MaxPooling2D(pool_size=(2, 2)))\n",
        "model25.add(Flatten())\n",
        "model25.add(layers.Dense(220, activation='relu'))\n",
        "model25.add(layers.Dense(124, activation='relu'))\n",
        "model25.add(layers.Dense(3, activation='softmax'))"
      ],
      "metadata": {
        "id": "Ns2Iq6qIzJtx"
      },
      "execution_count": 35,
      "outputs": []
    },
    {
      "cell_type": "code",
      "source": [
        "model25.compile(loss='categorical_crossentropy', \n",
        "\t      optimizer='adam',\n",
        "\t      metrics=['acc'])"
      ],
      "metadata": {
        "id": "O29cXzfVzaDz"
      },
      "execution_count": 36,
      "outputs": []
    },
    {
      "cell_type": "code",
      "source": [
        "model25.fit_generator(x_train,epochs=50,validation_data=x_test)"
      ],
      "metadata": {
        "colab": {
          "base_uri": "https://localhost:8080/"
        },
        "id": "Fhj0iCQRzcov",
        "outputId": "d4381b1d-717c-4f51-d666-39d804a14b95"
      },
      "execution_count": 38,
      "outputs": [
        {
          "output_type": "stream",
          "name": "stderr",
          "text": [
            "/usr/local/lib/python3.7/dist-packages/ipykernel_launcher.py:1: UserWarning: `Model.fit_generator` is deprecated and will be removed in a future version. Please use `Model.fit`, which supports generators.\n",
            "  \"\"\"Entry point for launching an IPython kernel.\n"
          ]
        },
        {
          "output_type": "stream",
          "name": "stdout",
          "text": [
            "Epoch 1/50\n",
            "12/12 [==============================] - 10s 659ms/step - loss: 1.4751 - acc: 0.4476 - val_loss: 0.9593 - val_acc: 0.5429\n",
            "Epoch 2/50\n",
            "12/12 [==============================] - 7s 599ms/step - loss: 1.0253 - acc: 0.4948 - val_loss: 1.1110 - val_acc: 0.3714\n",
            "Epoch 3/50\n",
            "12/12 [==============================] - 7s 615ms/step - loss: 0.9876 - acc: 0.5026 - val_loss: 0.9033 - val_acc: 0.6429\n",
            "Epoch 4/50\n",
            "12/12 [==============================] - 7s 612ms/step - loss: 0.9039 - acc: 0.5995 - val_loss: 0.8824 - val_acc: 0.6214\n",
            "Epoch 5/50\n",
            "12/12 [==============================] - 7s 625ms/step - loss: 0.8738 - acc: 0.6126 - val_loss: 0.8095 - val_acc: 0.6429\n",
            "Epoch 6/50\n",
            "12/12 [==============================] - 7s 614ms/step - loss: 0.8435 - acc: 0.6047 - val_loss: 0.8464 - val_acc: 0.6286\n",
            "Epoch 7/50\n",
            "12/12 [==============================] - 7s 610ms/step - loss: 0.7837 - acc: 0.6518 - val_loss: 0.7794 - val_acc: 0.6500\n",
            "Epoch 8/50\n",
            "12/12 [==============================] - 7s 597ms/step - loss: 0.7834 - acc: 0.6283 - val_loss: 0.8098 - val_acc: 0.6643\n",
            "Epoch 9/50\n",
            "12/12 [==============================] - 7s 603ms/step - loss: 0.7198 - acc: 0.6675 - val_loss: 0.7847 - val_acc: 0.6643\n",
            "Epoch 10/50\n",
            "12/12 [==============================] - 7s 632ms/step - loss: 0.7202 - acc: 0.6859 - val_loss: 0.8147 - val_acc: 0.6071\n",
            "Epoch 11/50\n",
            "12/12 [==============================] - 7s 613ms/step - loss: 0.6956 - acc: 0.6963 - val_loss: 0.7953 - val_acc: 0.6571\n",
            "Epoch 12/50\n",
            "12/12 [==============================] - 7s 608ms/step - loss: 0.6568 - acc: 0.7068 - val_loss: 0.7613 - val_acc: 0.6429\n",
            "Epoch 13/50\n",
            "12/12 [==============================] - 7s 611ms/step - loss: 0.6239 - acc: 0.7435 - val_loss: 0.8016 - val_acc: 0.6714\n",
            "Epoch 14/50\n",
            "12/12 [==============================] - 7s 616ms/step - loss: 0.5872 - acc: 0.7539 - val_loss: 0.8440 - val_acc: 0.6286\n",
            "Epoch 15/50\n",
            "12/12 [==============================] - 8s 638ms/step - loss: 0.5990 - acc: 0.7539 - val_loss: 0.8240 - val_acc: 0.6000\n",
            "Epoch 16/50\n",
            "12/12 [==============================] - 7s 609ms/step - loss: 0.5993 - acc: 0.7461 - val_loss: 0.7521 - val_acc: 0.6929\n",
            "Epoch 17/50\n",
            "12/12 [==============================] - 7s 593ms/step - loss: 0.5623 - acc: 0.7461 - val_loss: 0.7603 - val_acc: 0.7214\n",
            "Epoch 18/50\n",
            "12/12 [==============================] - 7s 623ms/step - loss: 0.4702 - acc: 0.8141 - val_loss: 0.8147 - val_acc: 0.7000\n",
            "Epoch 19/50\n",
            "12/12 [==============================] - 7s 615ms/step - loss: 0.5098 - acc: 0.7984 - val_loss: 0.9037 - val_acc: 0.5571\n",
            "Epoch 20/50\n",
            "12/12 [==============================] - 7s 612ms/step - loss: 0.4944 - acc: 0.7958 - val_loss: 0.8452 - val_acc: 0.6857\n",
            "Epoch 21/50\n",
            "12/12 [==============================] - 7s 599ms/step - loss: 0.5479 - acc: 0.7644 - val_loss: 0.8476 - val_acc: 0.6357\n",
            "Epoch 22/50\n",
            "12/12 [==============================] - 7s 611ms/step - loss: 0.4747 - acc: 0.8010 - val_loss: 0.7995 - val_acc: 0.6500\n",
            "Epoch 23/50\n",
            "12/12 [==============================] - 7s 612ms/step - loss: 0.3866 - acc: 0.8403 - val_loss: 0.8316 - val_acc: 0.6571\n",
            "Epoch 24/50\n",
            "12/12 [==============================] - 7s 608ms/step - loss: 0.3756 - acc: 0.8639 - val_loss: 0.9274 - val_acc: 0.6000\n",
            "Epoch 25/50\n",
            "12/12 [==============================] - 7s 625ms/step - loss: 0.3851 - acc: 0.8455 - val_loss: 0.9042 - val_acc: 0.6500\n",
            "Epoch 26/50\n",
            "12/12 [==============================] - 7s 605ms/step - loss: 0.3679 - acc: 0.8691 - val_loss: 1.0128 - val_acc: 0.6857\n",
            "Epoch 27/50\n",
            "12/12 [==============================] - 7s 601ms/step - loss: 0.3386 - acc: 0.8717 - val_loss: 1.0279 - val_acc: 0.6571\n",
            "Epoch 28/50\n",
            "12/12 [==============================] - 8s 673ms/step - loss: 0.2756 - acc: 0.8822 - val_loss: 1.1761 - val_acc: 0.6357\n",
            "Epoch 29/50\n",
            "12/12 [==============================] - 7s 619ms/step - loss: 0.2783 - acc: 0.9058 - val_loss: 0.9374 - val_acc: 0.6429\n",
            "Epoch 30/50\n",
            "12/12 [==============================] - 7s 603ms/step - loss: 0.2218 - acc: 0.9136 - val_loss: 1.3351 - val_acc: 0.6857\n",
            "Epoch 31/50\n",
            "12/12 [==============================] - 7s 611ms/step - loss: 0.2236 - acc: 0.9215 - val_loss: 1.0985 - val_acc: 0.6286\n",
            "Epoch 32/50\n",
            "12/12 [==============================] - 7s 606ms/step - loss: 0.1854 - acc: 0.9424 - val_loss: 1.3848 - val_acc: 0.5571\n",
            "Epoch 33/50\n",
            "12/12 [==============================] - 7s 619ms/step - loss: 0.1983 - acc: 0.9188 - val_loss: 1.3873 - val_acc: 0.6500\n",
            "Epoch 34/50\n",
            "12/12 [==============================] - 8s 634ms/step - loss: 0.2102 - acc: 0.9319 - val_loss: 1.4753 - val_acc: 0.6214\n",
            "Epoch 35/50\n",
            "12/12 [==============================] - 7s 615ms/step - loss: 0.1809 - acc: 0.9372 - val_loss: 1.0682 - val_acc: 0.6786\n",
            "Epoch 36/50\n",
            "12/12 [==============================] - 7s 617ms/step - loss: 0.1931 - acc: 0.9398 - val_loss: 1.1908 - val_acc: 0.6500\n",
            "Epoch 37/50\n",
            "12/12 [==============================] - 7s 613ms/step - loss: 0.1914 - acc: 0.9319 - val_loss: 1.1879 - val_acc: 0.6357\n",
            "Epoch 38/50\n",
            "12/12 [==============================] - 7s 597ms/step - loss: 0.1350 - acc: 0.9581 - val_loss: 1.2673 - val_acc: 0.6429\n",
            "Epoch 39/50\n",
            "12/12 [==============================] - 8s 638ms/step - loss: 0.1014 - acc: 0.9634 - val_loss: 1.2841 - val_acc: 0.6000\n",
            "Epoch 40/50\n",
            "12/12 [==============================] - 7s 602ms/step - loss: 0.1560 - acc: 0.9476 - val_loss: 1.4018 - val_acc: 0.6429\n",
            "Epoch 41/50\n",
            "12/12 [==============================] - 7s 593ms/step - loss: 0.2191 - acc: 0.9241 - val_loss: 1.4282 - val_acc: 0.5714\n",
            "Epoch 42/50\n",
            "12/12 [==============================] - 7s 604ms/step - loss: 0.1594 - acc: 0.9450 - val_loss: 1.0382 - val_acc: 0.6643\n",
            "Epoch 43/50\n",
            "12/12 [==============================] - 7s 630ms/step - loss: 0.1507 - acc: 0.9476 - val_loss: 1.0944 - val_acc: 0.6357\n",
            "Epoch 44/50\n",
            "12/12 [==============================] - 7s 610ms/step - loss: 0.0858 - acc: 0.9738 - val_loss: 1.1746 - val_acc: 0.6714\n",
            "Epoch 45/50\n",
            "12/12 [==============================] - 7s 620ms/step - loss: 0.0579 - acc: 0.9817 - val_loss: 1.1718 - val_acc: 0.6786\n",
            "Epoch 46/50\n",
            "12/12 [==============================] - 8s 632ms/step - loss: 0.0763 - acc: 0.9791 - val_loss: 1.3281 - val_acc: 0.6500\n",
            "Epoch 47/50\n",
            "12/12 [==============================] - 7s 622ms/step - loss: 0.0642 - acc: 0.9791 - val_loss: 1.1988 - val_acc: 0.6929\n",
            "Epoch 48/50\n",
            "12/12 [==============================] - 8s 637ms/step - loss: 0.0328 - acc: 0.9921 - val_loss: 1.2856 - val_acc: 0.7000\n",
            "Epoch 49/50\n",
            "12/12 [==============================] - 8s 639ms/step - loss: 0.0237 - acc: 0.9974 - val_loss: 1.2936 - val_acc: 0.6500\n",
            "Epoch 50/50\n",
            "12/12 [==============================] - 7s 622ms/step - loss: 0.0185 - acc: 0.9948 - val_loss: 1.3884 - val_acc: 0.6571\n"
          ]
        },
        {
          "output_type": "execute_result",
          "data": {
            "text/plain": [
              "<keras.callbacks.History at 0x7f81182b2290>"
            ]
          },
          "metadata": {},
          "execution_count": 38
        }
      ]
    },
    {
      "cell_type": "markdown",
      "metadata": {
        "id": "mv2fRHt3Far6"
      },
      "source": [
        "**Making Predictions**"
      ]
    },
    {
      "cell_type": "code",
      "metadata": {
        "id": "0XBPNR4REMPX"
      },
      "source": [
        "# Making predictions using our trained model\n",
        "predictions2 = model2.predict(x_test)\n",
        "predictions2 = np.argmax(predictions2, axis=1)"
      ],
      "execution_count": null,
      "outputs": []
    },
    {
      "cell_type": "markdown",
      "metadata": {
        "id": "oONGE2Mw1g-j"
      },
      "source": [
        "# VGGNet Architecture"
      ]
    },
    {
      "cell_type": "code",
      "metadata": {
        "id": "LAW-zDyu1g-w"
      },
      "source": [
        "model3 = Sequential()\n",
        "model3.add(Conv2D(input_shape=(224,224,3),filters=64,kernel_size=(3,3),padding=\"same\", activation=\"relu\"))\n",
        "model3.add(Conv2D(filters=64,kernel_size=(3,3),padding=\"same\", activation=\"relu\"))\n",
        "model3.add(MaxPooling2D(pool_size=(2,2),strides=(2,2)))\n",
        "model3.add(Conv2D(filters=128, kernel_size=(3,3), padding=\"same\", activation=\"relu\"))\n",
        "model3.add(Conv2D(filters=128, kernel_size=(3,3), padding=\"same\", activation=\"relu\"))\n",
        "model3.add(MaxPooling2D(pool_size=(2,2),strides=(2,2)))\n",
        "model3.add(Conv2D(filters=256, kernel_size=(3,3), padding=\"same\", activation=\"relu\"))\n",
        "model3.add(Conv2D(filters=256, kernel_size=(3,3), padding=\"same\", activation=\"relu\"))\n",
        "model3.add(Conv2D(filters=256, kernel_size=(3,3), padding=\"same\", activation=\"relu\"))\n",
        "model3.add(MaxPooling2D(pool_size=(2,2),strides=(2,2)))\n",
        "model3.add(Conv2D(filters=512, kernel_size=(3,3), padding=\"same\", activation=\"relu\"))\n",
        "model3.add(Conv2D(filters=512, kernel_size=(3,3), padding=\"same\", activation=\"relu\"))\n",
        "model3.add(Conv2D(filters=512, kernel_size=(3,3), padding=\"same\", activation=\"relu\"))\n",
        "model3.add(MaxPooling2D(pool_size=(2,2),strides=(2,2)))\n",
        "model3.add(Conv2D(filters=512, kernel_size=(3,3), padding=\"same\", activation=\"relu\"))\n",
        "model3.add(Conv2D(filters=512, kernel_size=(3,3), padding=\"same\", activation=\"relu\"))\n",
        "model3.add(Conv2D(filters=512, kernel_size=(3,3), padding=\"same\", activation=\"relu\"))\n",
        "model3.add(MaxPooling2D(pool_size=(2,2),strides=(2,2)))\n",
        "\n",
        "model3.add(Flatten())\n",
        "model3.add(Dense(units=4096,activation=\"relu\"))\n",
        "model3.add(Dense(units=4096,activation=\"relu\"))\n",
        "model3.add(Dense(units=3, activation=\"softmax\"))"
      ],
      "execution_count": 39,
      "outputs": []
    },
    {
      "cell_type": "code",
      "metadata": {
        "id": "L5_fj1Ty1g-x"
      },
      "source": [
        "model3.compile(loss='categorical_crossentropy', \n",
        "\t      optimizer='adam',\n",
        "\t      metrics=['acc'])"
      ],
      "execution_count": 40,
      "outputs": []
    },
    {
      "cell_type": "code",
      "metadata": {
        "colab": {
          "base_uri": "https://localhost:8080/"
        },
        "outputId": "6663008f-2f52-46c8-b078-56016dab1b44",
        "id": "gSSd1uvp1g-x"
      },
      "source": [
        "#steps per epoch=279/30;validation_step=120/30\n",
        "model3.fit_generator(x_train,epochs=50,validation_data=x_test)"
      ],
      "execution_count": 41,
      "outputs": [
        {
          "output_type": "stream",
          "name": "stderr",
          "text": [
            "/usr/local/lib/python3.7/dist-packages/ipykernel_launcher.py:2: UserWarning: `Model.fit_generator` is deprecated and will be removed in a future version. Please use `Model.fit`, which supports generators.\n",
            "  \n"
          ]
        },
        {
          "output_type": "stream",
          "name": "stdout",
          "text": [
            "Epoch 1/50\n",
            "12/12 [==============================] - 23s 1s/step - loss: 1.2929 - acc: 0.4607 - val_loss: 1.0839 - val_acc: 0.5000\n",
            "Epoch 2/50\n",
            "12/12 [==============================] - 9s 763ms/step - loss: 1.0758 - acc: 0.4817 - val_loss: 1.0307 - val_acc: 0.5000\n",
            "Epoch 3/50\n",
            "12/12 [==============================] - 9s 733ms/step - loss: 1.0398 - acc: 0.4817 - val_loss: 1.0211 - val_acc: 0.5000\n",
            "Epoch 4/50\n",
            "12/12 [==============================] - 9s 751ms/step - loss: 1.0388 - acc: 0.4817 - val_loss: 1.0222 - val_acc: 0.5000\n",
            "Epoch 5/50\n",
            "12/12 [==============================] - 9s 776ms/step - loss: 1.0333 - acc: 0.4817 - val_loss: 1.0190 - val_acc: 0.5000\n",
            "Epoch 6/50\n",
            "12/12 [==============================] - 9s 774ms/step - loss: 1.0352 - acc: 0.4817 - val_loss: 1.0236 - val_acc: 0.5000\n",
            "Epoch 7/50\n",
            "12/12 [==============================] - 9s 747ms/step - loss: 1.0414 - acc: 0.4817 - val_loss: 1.0287 - val_acc: 0.5000\n",
            "Epoch 8/50\n",
            "12/12 [==============================] - 9s 746ms/step - loss: 1.0371 - acc: 0.4817 - val_loss: 1.0193 - val_acc: 0.5000\n",
            "Epoch 9/50\n",
            "12/12 [==============================] - 9s 740ms/step - loss: 1.0342 - acc: 0.4817 - val_loss: 1.0211 - val_acc: 0.5000\n",
            "Epoch 10/50\n",
            "12/12 [==============================] - 9s 736ms/step - loss: 1.0341 - acc: 0.4817 - val_loss: 1.0214 - val_acc: 0.5000\n",
            "Epoch 11/50\n",
            "12/12 [==============================] - 9s 737ms/step - loss: 1.0346 - acc: 0.4817 - val_loss: 1.0193 - val_acc: 0.5000\n",
            "Epoch 12/50\n",
            "12/12 [==============================] - 9s 741ms/step - loss: 1.0352 - acc: 0.4817 - val_loss: 1.0201 - val_acc: 0.5000\n",
            "Epoch 13/50\n",
            "12/12 [==============================] - 9s 753ms/step - loss: 1.0360 - acc: 0.4817 - val_loss: 1.0237 - val_acc: 0.5000\n",
            "Epoch 14/50\n",
            "12/12 [==============================] - 9s 767ms/step - loss: 1.0334 - acc: 0.4817 - val_loss: 1.0194 - val_acc: 0.5000\n",
            "Epoch 15/50\n",
            "12/12 [==============================] - 9s 745ms/step - loss: 1.0345 - acc: 0.4817 - val_loss: 1.0192 - val_acc: 0.5000\n",
            "Epoch 16/50\n",
            "12/12 [==============================] - 9s 764ms/step - loss: 1.0330 - acc: 0.4817 - val_loss: 1.0195 - val_acc: 0.5000\n",
            "Epoch 17/50\n",
            "12/12 [==============================] - 9s 745ms/step - loss: 1.0346 - acc: 0.4817 - val_loss: 1.0226 - val_acc: 0.5000\n",
            "Epoch 18/50\n",
            "12/12 [==============================] - 9s 742ms/step - loss: 1.0339 - acc: 0.4817 - val_loss: 1.0194 - val_acc: 0.5000\n",
            "Epoch 19/50\n",
            "12/12 [==============================] - 9s 762ms/step - loss: 1.0376 - acc: 0.4817 - val_loss: 1.0193 - val_acc: 0.5000\n",
            "Epoch 20/50\n",
            "12/12 [==============================] - 9s 746ms/step - loss: 1.0353 - acc: 0.4817 - val_loss: 1.0256 - val_acc: 0.5000\n",
            "Epoch 21/50\n",
            "12/12 [==============================] - 9s 745ms/step - loss: 1.0355 - acc: 0.4817 - val_loss: 1.0205 - val_acc: 0.5000\n",
            "Epoch 22/50\n",
            "12/12 [==============================] - 9s 734ms/step - loss: 1.0340 - acc: 0.4817 - val_loss: 1.0192 - val_acc: 0.5000\n",
            "Epoch 23/50\n",
            "12/12 [==============================] - 9s 728ms/step - loss: 1.0340 - acc: 0.4817 - val_loss: 1.0212 - val_acc: 0.5000\n",
            "Epoch 24/50\n",
            "12/12 [==============================] - 9s 737ms/step - loss: 1.0348 - acc: 0.4817 - val_loss: 1.0209 - val_acc: 0.5000\n",
            "Epoch 25/50\n",
            "12/12 [==============================] - 9s 763ms/step - loss: 1.0327 - acc: 0.4817 - val_loss: 1.0195 - val_acc: 0.5000\n",
            "Epoch 26/50\n",
            "12/12 [==============================] - 9s 742ms/step - loss: 1.0344 - acc: 0.4817 - val_loss: 1.0199 - val_acc: 0.5000\n",
            "Epoch 27/50\n",
            "12/12 [==============================] - 9s 752ms/step - loss: 1.0335 - acc: 0.4817 - val_loss: 1.0195 - val_acc: 0.5000\n",
            "Epoch 28/50\n",
            "12/12 [==============================] - 9s 758ms/step - loss: 1.0345 - acc: 0.4817 - val_loss: 1.0194 - val_acc: 0.5000\n",
            "Epoch 29/50\n",
            "12/12 [==============================] - 9s 762ms/step - loss: 1.0360 - acc: 0.4817 - val_loss: 1.0224 - val_acc: 0.5000\n",
            "Epoch 30/50\n",
            "12/12 [==============================] - 9s 730ms/step - loss: 1.0345 - acc: 0.4817 - val_loss: 1.0194 - val_acc: 0.5000\n",
            "Epoch 31/50\n",
            "12/12 [==============================] - 9s 768ms/step - loss: 1.0360 - acc: 0.4817 - val_loss: 1.0206 - val_acc: 0.5000\n",
            "Epoch 32/50\n",
            "12/12 [==============================] - 9s 738ms/step - loss: 1.0329 - acc: 0.4817 - val_loss: 1.0192 - val_acc: 0.5000\n",
            "Epoch 33/50\n",
            "12/12 [==============================] - 9s 740ms/step - loss: 1.0341 - acc: 0.4817 - val_loss: 1.0198 - val_acc: 0.5000\n",
            "Epoch 34/50\n",
            "12/12 [==============================] - 9s 778ms/step - loss: 1.0337 - acc: 0.4817 - val_loss: 1.0195 - val_acc: 0.5000\n",
            "Epoch 35/50\n",
            "12/12 [==============================] - 9s 737ms/step - loss: 1.0328 - acc: 0.4817 - val_loss: 1.0210 - val_acc: 0.5000\n",
            "Epoch 36/50\n",
            "12/12 [==============================] - 9s 748ms/step - loss: 1.0335 - acc: 0.4817 - val_loss: 1.0208 - val_acc: 0.5000\n",
            "Epoch 37/50\n",
            "12/12 [==============================] - 9s 752ms/step - loss: 1.0324 - acc: 0.4817 - val_loss: 1.0194 - val_acc: 0.5000\n",
            "Epoch 38/50\n",
            "12/12 [==============================] - 9s 770ms/step - loss: 1.0328 - acc: 0.4817 - val_loss: 1.0195 - val_acc: 0.5000\n",
            "Epoch 39/50\n",
            "12/12 [==============================] - 9s 775ms/step - loss: 1.0345 - acc: 0.4817 - val_loss: 1.0201 - val_acc: 0.5000\n",
            "Epoch 40/50\n",
            "12/12 [==============================] - 10s 796ms/step - loss: 1.0348 - acc: 0.4817 - val_loss: 1.0219 - val_acc: 0.5000\n",
            "Epoch 41/50\n",
            "12/12 [==============================] - 9s 758ms/step - loss: 1.0339 - acc: 0.4817 - val_loss: 1.0197 - val_acc: 0.5000\n",
            "Epoch 42/50\n",
            "12/12 [==============================] - 9s 735ms/step - loss: 1.0346 - acc: 0.4817 - val_loss: 1.0191 - val_acc: 0.5000\n",
            "Epoch 43/50\n",
            "12/12 [==============================] - 9s 726ms/step - loss: 1.0327 - acc: 0.4817 - val_loss: 1.0202 - val_acc: 0.5000\n",
            "Epoch 44/50\n",
            "12/12 [==============================] - 9s 749ms/step - loss: 1.0336 - acc: 0.4817 - val_loss: 1.0210 - val_acc: 0.5000\n",
            "Epoch 45/50\n",
            "12/12 [==============================] - 9s 747ms/step - loss: 1.0336 - acc: 0.4817 - val_loss: 1.0201 - val_acc: 0.5000\n",
            "Epoch 46/50\n",
            "12/12 [==============================] - 9s 767ms/step - loss: 1.0328 - acc: 0.4817 - val_loss: 1.0200 - val_acc: 0.5000\n",
            "Epoch 47/50\n",
            "12/12 [==============================] - 9s 732ms/step - loss: 1.0332 - acc: 0.4817 - val_loss: 1.0196 - val_acc: 0.5000\n",
            "Epoch 48/50\n",
            "12/12 [==============================] - 9s 760ms/step - loss: 1.0330 - acc: 0.4817 - val_loss: 1.0195 - val_acc: 0.5000\n",
            "Epoch 49/50\n",
            "12/12 [==============================] - 9s 748ms/step - loss: 1.0325 - acc: 0.4817 - val_loss: 1.0199 - val_acc: 0.5000\n",
            "Epoch 50/50\n",
            "12/12 [==============================] - 9s 746ms/step - loss: 1.0328 - acc: 0.4817 - val_loss: 1.0206 - val_acc: 0.5000\n"
          ]
        },
        {
          "output_type": "execute_result",
          "data": {
            "text/plain": [
              "<keras.callbacks.History at 0x7f81181625d0>"
            ]
          },
          "metadata": {},
          "execution_count": 41
        }
      ]
    },
    {
      "cell_type": "markdown",
      "metadata": {
        "id": "KZHP9DcH1g-y"
      },
      "source": [
        "**Making Predictions**"
      ]
    },
    {
      "cell_type": "code",
      "metadata": {
        "id": "zDrIT2F71g-y"
      },
      "source": [
        "# Making predictions using our trained model\n",
        "predictions2 = model2.predict(x_test)\n",
        "predictions2 = np.argmax(predictions2, axis=1)"
      ],
      "execution_count": 42,
      "outputs": []
    },
    {
      "cell_type": "markdown",
      "source": [
        "# Xception"
      ],
      "metadata": {
        "id": "stV5ms7-4VUe"
      }
    },
    {
      "cell_type": "code",
      "source": [
        "import tensorflow as tf\n",
        "from tensorflow.keras.layers import Input,Dense,Conv2D,Add\n",
        "from tensorflow.keras.layers import SeparableConv2D,ReLU\n",
        "from tensorflow.keras.layers import BatchNormalization,MaxPool2D\n",
        "from tensorflow.keras.layers import GlobalAvgPool2D\n",
        "from tensorflow.keras import Model\n",
        "# creating the Conv-Batch Norm block\n",
        "\n",
        "def conv_bn(x, filters, kernel_size, strides=1):\n",
        "    \n",
        "    x = Conv2D(filters=filters, \n",
        "               kernel_size = kernel_size, \n",
        "               strides=strides, \n",
        "               padding = 'same', \n",
        "               use_bias = False)(x)\n",
        "    x = BatchNormalization()(x)\n",
        "    return x\n",
        "# creating separableConv-Batch Norm block\n",
        "\n",
        "def sep_bn(x, filters, kernel_size, strides=1):\n",
        "    \n",
        "    x = SeparableConv2D(filters=filters, \n",
        "                        kernel_size = kernel_size, \n",
        "                        strides=strides, \n",
        "                        padding = 'same', \n",
        "                        use_bias = False)(x)\n",
        "    x = BatchNormalization()(x)\n",
        "    return x\n",
        "# entry flow\n",
        "\n",
        "def entry_flow(x):\n",
        "    \n",
        "    x = conv_bn(x, filters =32, kernel_size =3, strides=2)\n",
        "    x = ReLU()(x)\n",
        "    x = conv_bn(x, filters =64, kernel_size =3, strides=1)\n",
        "    tensor = ReLU()(x)\n",
        "    \n",
        "    x = sep_bn(tensor, filters = 128, kernel_size =3)\n",
        "    x = ReLU()(x)\n",
        "    x = sep_bn(x, filters = 128, kernel_size =3)\n",
        "    x = MaxPool2D(pool_size=3, strides=2, padding = 'same')(x)\n",
        "    \n",
        "    tensor = conv_bn(tensor, filters=128, kernel_size = 1,strides=2)\n",
        "    x = Add()([tensor,x])\n",
        "    \n",
        "    x = ReLU()(x)\n",
        "    x = sep_bn(x, filters =256, kernel_size=3)\n",
        "    x = ReLU()(x)\n",
        "    x = sep_bn(x, filters =256, kernel_size=3)\n",
        "    x = MaxPool2D(pool_size=3, strides=2, padding = 'same')(x)\n",
        "    \n",
        "    tensor = conv_bn(tensor, filters=256, kernel_size = 1,strides=2)\n",
        "    x = Add()([tensor,x])\n",
        "    \n",
        "    x = ReLU()(x)\n",
        "    x = sep_bn(x, filters =728, kernel_size=3)\n",
        "    x = ReLU()(x)\n",
        "    x = sep_bn(x, filters =728, kernel_size=3)\n",
        "    x = MaxPool2D(pool_size=3, strides=2, padding = 'same')(x)\n",
        "    \n",
        "    tensor = conv_bn(tensor, filters=728, kernel_size = 1,strides=2)\n",
        "    x = Add()([tensor,x])\n",
        "    return x\n",
        "# middle flow\n",
        "\n",
        "def middle_flow(tensor):\n",
        "    \n",
        "    for _ in range(8):\n",
        "        x = ReLU()(tensor)\n",
        "        x = sep_bn(x, filters = 728, kernel_size = 3)\n",
        "        x = ReLU()(x)\n",
        "        x = sep_bn(x, filters = 728, kernel_size = 3)\n",
        "        x = ReLU()(x)\n",
        "        x = sep_bn(x, filters = 728, kernel_size = 3)\n",
        "        x = ReLU()(x)\n",
        "        tensor = Add()([tensor,x])\n",
        "        \n",
        "    return tensor\n",
        "# exit flow\n",
        "\n",
        "def exit_flow(tensor):\n",
        "    \n",
        "    x = ReLU()(tensor)\n",
        "    x = sep_bn(x, filters = 728,  kernel_size=3)\n",
        "    x = ReLU()(x)\n",
        "    x = sep_bn(x, filters = 1024,  kernel_size=3)\n",
        "    x = MaxPool2D(pool_size = 3, strides = 2, padding ='same')(x)\n",
        "    \n",
        "    tensor = conv_bn(tensor, filters =1024, kernel_size=1, strides =2)\n",
        "    x = Add()([tensor,x])\n",
        "    \n",
        "    x = sep_bn(x, filters = 1536,  kernel_size=3)\n",
        "    x = ReLU()(x)\n",
        "    x = sep_bn(x, filters = 2048,  kernel_size=3)\n",
        "    x = GlobalAvgPool2D()(x)\n",
        "    \n",
        "    x = Dense (units = 3, activation = 'softmax')(x)\n",
        "    \n",
        "    return x\n",
        "# model code\n",
        "\n",
        "input = Input(shape = (224,224,3))\n",
        "x = entry_flow(input)\n",
        "x = middle_flow(x)\n",
        "output = exit_flow(x)\n",
        "\n",
        "model4 = Model (inputs=input, outputs=output)\n",
        "model4.summary()"
      ],
      "metadata": {
        "id": "vyQ3M7UQ4TJK"
      },
      "execution_count": null,
      "outputs": []
    },
    {
      "cell_type": "code",
      "source": [
        "model4.compile(loss='categorical_crossentropy', \n",
        "\t      optimizer='adam',\n",
        "\t      metrics=['acc'])"
      ],
      "metadata": {
        "id": "V7qPGzTH41EM"
      },
      "execution_count": 44,
      "outputs": []
    },
    {
      "cell_type": "code",
      "source": [
        "#steps per epoch=279/30;validation_step=120/30\n",
        "model4.fit_generator(x_train,epochs=50,validation_data=x_test)"
      ],
      "metadata": {
        "colab": {
          "base_uri": "https://localhost:8080/"
        },
        "id": "_JA2PAIU461h",
        "outputId": "a9e5d7b4-922e-4821-b2f6-02d3a79d6131"
      },
      "execution_count": 45,
      "outputs": [
        {
          "output_type": "stream",
          "name": "stderr",
          "text": [
            "/usr/local/lib/python3.7/dist-packages/ipykernel_launcher.py:2: UserWarning: `Model.fit_generator` is deprecated and will be removed in a future version. Please use `Model.fit`, which supports generators.\n",
            "  \n"
          ]
        },
        {
          "output_type": "stream",
          "name": "stdout",
          "text": [
            "Epoch 1/50\n",
            "12/12 [==============================] - 22s 1s/step - loss: 1.9444 - acc: 0.4712 - val_loss: 1.0393 - val_acc: 0.5000\n",
            "Epoch 2/50\n",
            "12/12 [==============================] - 10s 787ms/step - loss: 0.8974 - acc: 0.6073 - val_loss: 1.0257 - val_acc: 0.5000\n",
            "Epoch 3/50\n",
            "12/12 [==============================] - 10s 793ms/step - loss: 0.7050 - acc: 0.7042 - val_loss: 1.0227 - val_acc: 0.5000\n",
            "Epoch 4/50\n",
            "12/12 [==============================] - 12s 975ms/step - loss: 0.5548 - acc: 0.7906 - val_loss: 1.0265 - val_acc: 0.5000\n",
            "Epoch 5/50\n",
            "12/12 [==============================] - 10s 797ms/step - loss: 0.4836 - acc: 0.7958 - val_loss: 1.0328 - val_acc: 0.5000\n",
            "Epoch 6/50\n",
            "12/12 [==============================] - 10s 840ms/step - loss: 0.5384 - acc: 0.7723 - val_loss: 1.0357 - val_acc: 0.5000\n",
            "Epoch 7/50\n",
            "12/12 [==============================] - 10s 817ms/step - loss: 0.4782 - acc: 0.8194 - val_loss: 1.0389 - val_acc: 0.5000\n",
            "Epoch 8/50\n",
            "12/12 [==============================] - 10s 838ms/step - loss: 0.4983 - acc: 0.8063 - val_loss: 1.0454 - val_acc: 0.5000\n",
            "Epoch 9/50\n",
            "12/12 [==============================] - 10s 807ms/step - loss: 0.4851 - acc: 0.7958 - val_loss: 1.0517 - val_acc: 0.5000\n",
            "Epoch 10/50\n",
            "12/12 [==============================] - 10s 809ms/step - loss: 0.4511 - acc: 0.7984 - val_loss: 1.0579 - val_acc: 0.5000\n",
            "Epoch 11/50\n",
            "12/12 [==============================] - 10s 860ms/step - loss: 0.3204 - acc: 0.8822 - val_loss: 1.0632 - val_acc: 0.5000\n",
            "Epoch 12/50\n",
            "12/12 [==============================] - 10s 838ms/step - loss: 0.3629 - acc: 0.8534 - val_loss: 1.0709 - val_acc: 0.5000\n",
            "Epoch 13/50\n",
            "12/12 [==============================] - 10s 802ms/step - loss: 0.2775 - acc: 0.8822 - val_loss: 1.0817 - val_acc: 0.5000\n",
            "Epoch 14/50\n",
            "12/12 [==============================] - 10s 809ms/step - loss: 0.2711 - acc: 0.8979 - val_loss: 1.0999 - val_acc: 0.5000\n",
            "Epoch 15/50\n",
            "12/12 [==============================] - 10s 819ms/step - loss: 0.3317 - acc: 0.8613 - val_loss: 1.0911 - val_acc: 0.5000\n",
            "Epoch 16/50\n",
            "12/12 [==============================] - 10s 825ms/step - loss: 0.2688 - acc: 0.8979 - val_loss: 1.0967 - val_acc: 0.5000\n",
            "Epoch 17/50\n",
            "12/12 [==============================] - 10s 827ms/step - loss: 0.2007 - acc: 0.9241 - val_loss: 1.1083 - val_acc: 0.5000\n",
            "Epoch 18/50\n",
            "12/12 [==============================] - 10s 813ms/step - loss: 0.1624 - acc: 0.9293 - val_loss: 1.1108 - val_acc: 0.5000\n",
            "Epoch 19/50\n",
            "12/12 [==============================] - 10s 808ms/step - loss: 0.2713 - acc: 0.9031 - val_loss: 1.1215 - val_acc: 0.5000\n",
            "Epoch 20/50\n",
            "12/12 [==============================] - 10s 792ms/step - loss: 0.2453 - acc: 0.8979 - val_loss: 1.1349 - val_acc: 0.5000\n",
            "Epoch 21/50\n",
            "12/12 [==============================] - 10s 842ms/step - loss: 0.1942 - acc: 0.9319 - val_loss: 1.1278 - val_acc: 0.5000\n",
            "Epoch 22/50\n",
            "12/12 [==============================] - 10s 850ms/step - loss: 0.1883 - acc: 0.9319 - val_loss: 1.1404 - val_acc: 0.5000\n",
            "Epoch 23/50\n",
            "12/12 [==============================] - 10s 831ms/step - loss: 0.2016 - acc: 0.9319 - val_loss: 1.1570 - val_acc: 0.5000\n",
            "Epoch 24/50\n",
            "12/12 [==============================] - 10s 826ms/step - loss: 0.1710 - acc: 0.9450 - val_loss: 1.1105 - val_acc: 0.5000\n",
            "Epoch 25/50\n",
            "12/12 [==============================] - 10s 804ms/step - loss: 0.1422 - acc: 0.9503 - val_loss: 1.1405 - val_acc: 0.5000\n",
            "Epoch 26/50\n",
            "12/12 [==============================] - 10s 825ms/step - loss: 0.1691 - acc: 0.9319 - val_loss: 1.1266 - val_acc: 0.4500\n",
            "Epoch 27/50\n",
            "12/12 [==============================] - 10s 818ms/step - loss: 0.1029 - acc: 0.9607 - val_loss: 1.1293 - val_acc: 0.5000\n",
            "Epoch 28/50\n",
            "12/12 [==============================] - 10s 804ms/step - loss: 0.1283 - acc: 0.9581 - val_loss: 1.0982 - val_acc: 0.5000\n",
            "Epoch 29/50\n",
            "12/12 [==============================] - 10s 803ms/step - loss: 0.0567 - acc: 0.9817 - val_loss: 1.0904 - val_acc: 0.5000\n",
            "Epoch 30/50\n",
            "12/12 [==============================] - 10s 839ms/step - loss: 0.1439 - acc: 0.9503 - val_loss: 1.0923 - val_acc: 0.5000\n",
            "Epoch 31/50\n",
            "12/12 [==============================] - 10s 826ms/step - loss: 0.1630 - acc: 0.9424 - val_loss: 0.9978 - val_acc: 0.5000\n",
            "Epoch 32/50\n",
            "12/12 [==============================] - 10s 825ms/step - loss: 0.0881 - acc: 0.9764 - val_loss: 1.0156 - val_acc: 0.4929\n",
            "Epoch 33/50\n",
            "12/12 [==============================] - 10s 820ms/step - loss: 0.1258 - acc: 0.9476 - val_loss: 1.1431 - val_acc: 0.5000\n",
            "Epoch 34/50\n",
            "12/12 [==============================] - 10s 815ms/step - loss: 0.0591 - acc: 0.9791 - val_loss: 1.2171 - val_acc: 0.5071\n",
            "Epoch 35/50\n",
            "12/12 [==============================] - 10s 829ms/step - loss: 0.1577 - acc: 0.9555 - val_loss: 1.3093 - val_acc: 0.5143\n",
            "Epoch 36/50\n",
            "12/12 [==============================] - 10s 790ms/step - loss: 0.2320 - acc: 0.9215 - val_loss: 0.9688 - val_acc: 0.5357\n",
            "Epoch 37/50\n",
            "12/12 [==============================] - 10s 814ms/step - loss: 0.1359 - acc: 0.9424 - val_loss: 0.9215 - val_acc: 0.5929\n",
            "Epoch 38/50\n",
            "12/12 [==============================] - 10s 822ms/step - loss: 0.0801 - acc: 0.9712 - val_loss: 0.7786 - val_acc: 0.6571\n",
            "Epoch 39/50\n",
            "12/12 [==============================] - 10s 843ms/step - loss: 0.0726 - acc: 0.9764 - val_loss: 0.8698 - val_acc: 0.6000\n",
            "Epoch 40/50\n",
            "12/12 [==============================] - 10s 854ms/step - loss: 0.0791 - acc: 0.9660 - val_loss: 1.1910 - val_acc: 0.4786\n",
            "Epoch 41/50\n",
            "12/12 [==============================] - 10s 816ms/step - loss: 0.1365 - acc: 0.9555 - val_loss: 0.9720 - val_acc: 0.6071\n",
            "Epoch 42/50\n",
            "12/12 [==============================] - 10s 819ms/step - loss: 0.0950 - acc: 0.9686 - val_loss: 1.8821 - val_acc: 0.5000\n",
            "Epoch 43/50\n",
            "12/12 [==============================] - 10s 798ms/step - loss: 0.0557 - acc: 0.9869 - val_loss: 2.0441 - val_acc: 0.5214\n",
            "Epoch 44/50\n",
            "12/12 [==============================] - 10s 813ms/step - loss: 0.0574 - acc: 0.9738 - val_loss: 1.6899 - val_acc: 0.6143\n",
            "Epoch 45/50\n",
            "12/12 [==============================] - 10s 845ms/step - loss: 0.0691 - acc: 0.9791 - val_loss: 1.5034 - val_acc: 0.6143\n",
            "Epoch 46/50\n",
            "12/12 [==============================] - 10s 835ms/step - loss: 0.0792 - acc: 0.9738 - val_loss: 1.2473 - val_acc: 0.6000\n",
            "Epoch 47/50\n",
            "12/12 [==============================] - 10s 842ms/step - loss: 0.0683 - acc: 0.9791 - val_loss: 2.7175 - val_acc: 0.4429\n",
            "Epoch 48/50\n",
            "12/12 [==============================] - 10s 823ms/step - loss: 0.1084 - acc: 0.9581 - val_loss: 1.9460 - val_acc: 0.4786\n",
            "Epoch 49/50\n",
            "12/12 [==============================] - 10s 807ms/step - loss: 0.0973 - acc: 0.9634 - val_loss: 2.0606 - val_acc: 0.6429\n",
            "Epoch 50/50\n",
            "12/12 [==============================] - 10s 817ms/step - loss: 0.0409 - acc: 0.9843 - val_loss: 1.8403 - val_acc: 0.6714\n"
          ]
        },
        {
          "output_type": "execute_result",
          "data": {
            "text/plain": [
              "<keras.callbacks.History at 0x7f8090435550>"
            ]
          },
          "metadata": {},
          "execution_count": 45
        }
      ]
    },
    {
      "cell_type": "markdown",
      "source": [
        "#ResNet50"
      ],
      "metadata": {
        "id": "SMKOgcxw8umg"
      }
    },
    {
      "cell_type": "code",
      "source": [
        "import tensorflow.keras as K\n",
        "import tensorflow as tf\n",
        "input_t = K.Input(shape=(224, 224, 3))\n",
        "res_model5 = K.applications.ResNet50(include_top=False,\n",
        "                                    weights=\"imagenet\",\n",
        "                                    input_tensor=input_t)\n",
        "\n",
        "for layer in res_model5.layers[:143]:\n",
        "    layer.trainable = False\n",
        "\n",
        "for i, layer in enumerate(res_model5.layers):\n",
        "    print(i, layer.name, \"-\", layer.trainable)\n",
        "\n",
        "to_res = (224, 224)\n",
        "model5 = K.models.Sequential()\n",
        "model5.add(K.layers.Lambda(lambda image: tf.image.resize(image, to_res))) \n",
        "model5.add(res_model5)\n",
        "model5.add(K.layers.Flatten())\n",
        "model5.add(K.layers.BatchNormalization())\n",
        "model5.add(K.layers.Dense(256, activation='relu'))\n",
        "model5.add(K.layers.Dropout(0.5))\n",
        "model5.add(K.layers.BatchNormalization())\n",
        "model5.add(K.layers.Dense(128, activation='relu'))\n",
        "model5.add(K.layers.Dropout(0.5))\n",
        "model5.add(K.layers.BatchNormalization())\n",
        "model5.add(K.layers.Dense(64, activation='relu'))\n",
        "model5.add(K.layers.Dropout(0.5))\n",
        "model5.add(K.layers.BatchNormalization())\n",
        "model5.add(K.layers.Dense(3, activation='softmax'))\n",
        "\n",
        "model5.compile(loss='categorical_crossentropy',\n",
        "              optimizer=K.optimizers.RMSprop(lr=2e-5),\n",
        "              metrics=['accuracy'])"
      ],
      "metadata": {
        "id": "mRHtJmWY7VHA"
      },
      "execution_count": null,
      "outputs": []
    },
    {
      "cell_type": "code",
      "source": [
        "#steps per epoch=279/30;validation_step=120/30\n",
        "model5.fit_generator(x_train,epochs=100,validation_data=x_test)"
      ],
      "metadata": {
        "colab": {
          "base_uri": "https://localhost:8080/"
        },
        "id": "7ve5FdCd8h1L",
        "outputId": "016b247b-2330-4bba-e1f7-a457791d9cc3"
      },
      "execution_count": 47,
      "outputs": [
        {
          "output_type": "stream",
          "name": "stderr",
          "text": [
            "/usr/local/lib/python3.7/dist-packages/ipykernel_launcher.py:2: UserWarning: `Model.fit_generator` is deprecated and will be removed in a future version. Please use `Model.fit`, which supports generators.\n",
            "  \n"
          ]
        },
        {
          "output_type": "stream",
          "name": "stdout",
          "text": [
            "Epoch 1/100\n",
            "12/12 [==============================] - 17s 804ms/step - loss: 1.5753 - accuracy: 0.3298 - val_loss: 1.1215 - val_accuracy: 0.4714\n",
            "Epoch 2/100\n",
            "12/12 [==============================] - 8s 633ms/step - loss: 1.5576 - accuracy: 0.3403 - val_loss: 1.1459 - val_accuracy: 0.3643\n",
            "Epoch 3/100\n",
            "12/12 [==============================] - 8s 669ms/step - loss: 1.5145 - accuracy: 0.3508 - val_loss: 1.1469 - val_accuracy: 0.4571\n",
            "Epoch 4/100\n",
            "12/12 [==============================] - 8s 635ms/step - loss: 1.4448 - accuracy: 0.4084 - val_loss: 1.1234 - val_accuracy: 0.5000\n",
            "Epoch 5/100\n",
            "12/12 [==============================] - 8s 642ms/step - loss: 1.4955 - accuracy: 0.3927 - val_loss: 1.1418 - val_accuracy: 0.4929\n",
            "Epoch 6/100\n",
            "12/12 [==============================] - 8s 676ms/step - loss: 1.4559 - accuracy: 0.3927 - val_loss: 1.1188 - val_accuracy: 0.5286\n",
            "Epoch 7/100\n",
            "12/12 [==============================] - 8s 638ms/step - loss: 1.4069 - accuracy: 0.4031 - val_loss: 1.1316 - val_accuracy: 0.5214\n",
            "Epoch 8/100\n",
            "12/12 [==============================] - 7s 628ms/step - loss: 1.3632 - accuracy: 0.4346 - val_loss: 1.1365 - val_accuracy: 0.4929\n",
            "Epoch 9/100\n",
            "12/12 [==============================] - 7s 620ms/step - loss: 1.4144 - accuracy: 0.4110 - val_loss: 1.1540 - val_accuracy: 0.4786\n",
            "Epoch 10/100\n",
            "12/12 [==============================] - 8s 671ms/step - loss: 1.3183 - accuracy: 0.4162 - val_loss: 1.1114 - val_accuracy: 0.4357\n",
            "Epoch 11/100\n",
            "12/12 [==============================] - 8s 631ms/step - loss: 1.3903 - accuracy: 0.4110 - val_loss: 1.0832 - val_accuracy: 0.4214\n",
            "Epoch 12/100\n",
            "12/12 [==============================] - 8s 636ms/step - loss: 1.5082 - accuracy: 0.3613 - val_loss: 1.0943 - val_accuracy: 0.4071\n",
            "Epoch 13/100\n",
            "12/12 [==============================] - 8s 613ms/step - loss: 1.2616 - accuracy: 0.4607 - val_loss: 1.1028 - val_accuracy: 0.3643\n",
            "Epoch 14/100\n",
            "12/12 [==============================] - 7s 627ms/step - loss: 1.2890 - accuracy: 0.4372 - val_loss: 1.0685 - val_accuracy: 0.4214\n",
            "Epoch 15/100\n",
            "12/12 [==============================] - 7s 619ms/step - loss: 1.3296 - accuracy: 0.4319 - val_loss: 1.0890 - val_accuracy: 0.3786\n",
            "Epoch 16/100\n",
            "12/12 [==============================] - 8s 631ms/step - loss: 1.2598 - accuracy: 0.4346 - val_loss: 1.0767 - val_accuracy: 0.4143\n",
            "Epoch 17/100\n",
            "12/12 [==============================] - 8s 646ms/step - loss: 1.2696 - accuracy: 0.4503 - val_loss: 1.0453 - val_accuracy: 0.4429\n",
            "Epoch 18/100\n",
            "12/12 [==============================] - 8s 658ms/step - loss: 1.2128 - accuracy: 0.4948 - val_loss: 1.0392 - val_accuracy: 0.4143\n",
            "Epoch 19/100\n",
            "12/12 [==============================] - 8s 625ms/step - loss: 1.2906 - accuracy: 0.4424 - val_loss: 1.0340 - val_accuracy: 0.4500\n",
            "Epoch 20/100\n",
            "12/12 [==============================] - 8s 657ms/step - loss: 1.2389 - accuracy: 0.4450 - val_loss: 1.0801 - val_accuracy: 0.4357\n",
            "Epoch 21/100\n",
            "12/12 [==============================] - 8s 638ms/step - loss: 1.2754 - accuracy: 0.4581 - val_loss: 1.0918 - val_accuracy: 0.4286\n",
            "Epoch 22/100\n",
            "12/12 [==============================] - 8s 647ms/step - loss: 1.2568 - accuracy: 0.4529 - val_loss: 1.0927 - val_accuracy: 0.4357\n",
            "Epoch 23/100\n",
            "12/12 [==============================] - 8s 630ms/step - loss: 1.3107 - accuracy: 0.4738 - val_loss: 1.0253 - val_accuracy: 0.4500\n",
            "Epoch 24/100\n",
            "12/12 [==============================] - 8s 636ms/step - loss: 1.2306 - accuracy: 0.4634 - val_loss: 1.0359 - val_accuracy: 0.4857\n",
            "Epoch 25/100\n",
            "12/12 [==============================] - 8s 655ms/step - loss: 1.1895 - accuracy: 0.4843 - val_loss: 1.0492 - val_accuracy: 0.4571\n",
            "Epoch 26/100\n",
            "12/12 [==============================] - 8s 652ms/step - loss: 1.2722 - accuracy: 0.4529 - val_loss: 1.0704 - val_accuracy: 0.4000\n",
            "Epoch 27/100\n",
            "12/12 [==============================] - 8s 632ms/step - loss: 1.2288 - accuracy: 0.4293 - val_loss: 1.0008 - val_accuracy: 0.5143\n",
            "Epoch 28/100\n",
            "12/12 [==============================] - 8s 654ms/step - loss: 1.2334 - accuracy: 0.5105 - val_loss: 0.9628 - val_accuracy: 0.4786\n",
            "Epoch 29/100\n",
            "12/12 [==============================] - 8s 650ms/step - loss: 1.1155 - accuracy: 0.5340 - val_loss: 0.9946 - val_accuracy: 0.4857\n",
            "Epoch 30/100\n",
            "12/12 [==============================] - 8s 652ms/step - loss: 1.2227 - accuracy: 0.4921 - val_loss: 1.0132 - val_accuracy: 0.4571\n",
            "Epoch 31/100\n",
            "12/12 [==============================] - 8s 632ms/step - loss: 1.1777 - accuracy: 0.4607 - val_loss: 1.0079 - val_accuracy: 0.4714\n",
            "Epoch 32/100\n",
            "12/12 [==============================] - 8s 661ms/step - loss: 1.1958 - accuracy: 0.4529 - val_loss: 0.9873 - val_accuracy: 0.4929\n",
            "Epoch 33/100\n",
            "12/12 [==============================] - 8s 637ms/step - loss: 1.2716 - accuracy: 0.4660 - val_loss: 1.0157 - val_accuracy: 0.4929\n",
            "Epoch 34/100\n",
            "12/12 [==============================] - 8s 649ms/step - loss: 1.3123 - accuracy: 0.4372 - val_loss: 1.0533 - val_accuracy: 0.4714\n",
            "Epoch 35/100\n",
            "12/12 [==============================] - 8s 671ms/step - loss: 1.1877 - accuracy: 0.4817 - val_loss: 1.1845 - val_accuracy: 0.4571\n",
            "Epoch 36/100\n",
            "12/12 [==============================] - 8s 651ms/step - loss: 1.1984 - accuracy: 0.4712 - val_loss: 1.2470 - val_accuracy: 0.4214\n",
            "Epoch 37/100\n",
            "12/12 [==============================] - 8s 629ms/step - loss: 1.1592 - accuracy: 0.5052 - val_loss: 1.3357 - val_accuracy: 0.3786\n",
            "Epoch 38/100\n",
            "12/12 [==============================] - 8s 648ms/step - loss: 1.1963 - accuracy: 0.4607 - val_loss: 1.2009 - val_accuracy: 0.4357\n",
            "Epoch 39/100\n",
            "12/12 [==============================] - 8s 643ms/step - loss: 1.1929 - accuracy: 0.4529 - val_loss: 1.1492 - val_accuracy: 0.5000\n",
            "Epoch 40/100\n",
            "12/12 [==============================] - 8s 649ms/step - loss: 1.1262 - accuracy: 0.4791 - val_loss: 1.1383 - val_accuracy: 0.4857\n",
            "Epoch 41/100\n",
            "12/12 [==============================] - 8s 637ms/step - loss: 1.1501 - accuracy: 0.5026 - val_loss: 1.2010 - val_accuracy: 0.4786\n",
            "Epoch 42/100\n",
            "12/12 [==============================] - 8s 667ms/step - loss: 1.1682 - accuracy: 0.4791 - val_loss: 1.1707 - val_accuracy: 0.4857\n",
            "Epoch 43/100\n",
            "12/12 [==============================] - 8s 654ms/step - loss: 1.1340 - accuracy: 0.4974 - val_loss: 1.1199 - val_accuracy: 0.4929\n",
            "Epoch 44/100\n",
            "12/12 [==============================] - 8s 649ms/step - loss: 1.2028 - accuracy: 0.5288 - val_loss: 1.2191 - val_accuracy: 0.4429\n",
            "Epoch 45/100\n",
            "12/12 [==============================] - 8s 649ms/step - loss: 1.1799 - accuracy: 0.5052 - val_loss: 1.1091 - val_accuracy: 0.4643\n",
            "Epoch 46/100\n",
            "12/12 [==============================] - 8s 650ms/step - loss: 1.1607 - accuracy: 0.4895 - val_loss: 1.0843 - val_accuracy: 0.5214\n",
            "Epoch 47/100\n",
            "12/12 [==============================] - 8s 638ms/step - loss: 1.2009 - accuracy: 0.4791 - val_loss: 1.0489 - val_accuracy: 0.5214\n",
            "Epoch 48/100\n",
            "12/12 [==============================] - 8s 639ms/step - loss: 1.1304 - accuracy: 0.4948 - val_loss: 1.0534 - val_accuracy: 0.5286\n",
            "Epoch 49/100\n",
            "12/12 [==============================] - 8s 662ms/step - loss: 1.1504 - accuracy: 0.5052 - val_loss: 1.0073 - val_accuracy: 0.5429\n",
            "Epoch 50/100\n",
            "12/12 [==============================] - 8s 644ms/step - loss: 1.2099 - accuracy: 0.5105 - val_loss: 1.0834 - val_accuracy: 0.5214\n",
            "Epoch 51/100\n",
            "12/12 [==============================] - 8s 644ms/step - loss: 1.1705 - accuracy: 0.5131 - val_loss: 1.0200 - val_accuracy: 0.5571\n",
            "Epoch 52/100\n",
            "12/12 [==============================] - 8s 635ms/step - loss: 1.0559 - accuracy: 0.5576 - val_loss: 1.1192 - val_accuracy: 0.5143\n",
            "Epoch 53/100\n",
            "12/12 [==============================] - 8s 642ms/step - loss: 1.0981 - accuracy: 0.4921 - val_loss: 1.1733 - val_accuracy: 0.4929\n",
            "Epoch 54/100\n",
            "12/12 [==============================] - 8s 652ms/step - loss: 1.1161 - accuracy: 0.5052 - val_loss: 1.1549 - val_accuracy: 0.4714\n",
            "Epoch 55/100\n",
            "12/12 [==============================] - 8s 651ms/step - loss: 1.0504 - accuracy: 0.5393 - val_loss: 1.1303 - val_accuracy: 0.5071\n",
            "Epoch 56/100\n",
            "12/12 [==============================] - 8s 670ms/step - loss: 1.1535 - accuracy: 0.5262 - val_loss: 1.2150 - val_accuracy: 0.4786\n",
            "Epoch 57/100\n",
            "12/12 [==============================] - 8s 630ms/step - loss: 1.0363 - accuracy: 0.5733 - val_loss: 1.1962 - val_accuracy: 0.4857\n",
            "Epoch 58/100\n",
            "12/12 [==============================] - 8s 644ms/step - loss: 1.1541 - accuracy: 0.5052 - val_loss: 1.1607 - val_accuracy: 0.5000\n",
            "Epoch 59/100\n",
            "12/12 [==============================] - 8s 636ms/step - loss: 1.0073 - accuracy: 0.5733 - val_loss: 1.1996 - val_accuracy: 0.4857\n",
            "Epoch 60/100\n",
            "12/12 [==============================] - 8s 627ms/step - loss: 1.0357 - accuracy: 0.5340 - val_loss: 1.2108 - val_accuracy: 0.4571\n",
            "Epoch 61/100\n",
            "12/12 [==============================] - 8s 633ms/step - loss: 1.0806 - accuracy: 0.5183 - val_loss: 1.1978 - val_accuracy: 0.4714\n",
            "Epoch 62/100\n",
            "12/12 [==============================] - 8s 646ms/step - loss: 1.0270 - accuracy: 0.5524 - val_loss: 1.1129 - val_accuracy: 0.4786\n",
            "Epoch 63/100\n",
            "12/12 [==============================] - 8s 659ms/step - loss: 1.0808 - accuracy: 0.5157 - val_loss: 1.1648 - val_accuracy: 0.4786\n",
            "Epoch 64/100\n",
            "12/12 [==============================] - 8s 647ms/step - loss: 1.1540 - accuracy: 0.5026 - val_loss: 1.1890 - val_accuracy: 0.4714\n",
            "Epoch 65/100\n",
            "12/12 [==============================] - 8s 676ms/step - loss: 1.1530 - accuracy: 0.5000 - val_loss: 1.0919 - val_accuracy: 0.4714\n",
            "Epoch 66/100\n",
            "12/12 [==============================] - 8s 661ms/step - loss: 1.1722 - accuracy: 0.4869 - val_loss: 1.1871 - val_accuracy: 0.4500\n",
            "Epoch 67/100\n",
            "12/12 [==============================] - 8s 644ms/step - loss: 1.1084 - accuracy: 0.5393 - val_loss: 1.0746 - val_accuracy: 0.5214\n",
            "Epoch 68/100\n",
            "12/12 [==============================] - 8s 636ms/step - loss: 1.1070 - accuracy: 0.5288 - val_loss: 1.0615 - val_accuracy: 0.5500\n",
            "Epoch 69/100\n",
            "12/12 [==============================] - 8s 630ms/step - loss: 1.1100 - accuracy: 0.5209 - val_loss: 1.0157 - val_accuracy: 0.5786\n",
            "Epoch 70/100\n",
            "12/12 [==============================] - 8s 641ms/step - loss: 0.9915 - accuracy: 0.5550 - val_loss: 1.0270 - val_accuracy: 0.5714\n",
            "Epoch 71/100\n",
            "12/12 [==============================] - 8s 631ms/step - loss: 1.0155 - accuracy: 0.5864 - val_loss: 1.0161 - val_accuracy: 0.5429\n",
            "Epoch 72/100\n",
            "12/12 [==============================] - 8s 637ms/step - loss: 1.0577 - accuracy: 0.4921 - val_loss: 1.0614 - val_accuracy: 0.5929\n",
            "Epoch 73/100\n",
            "12/12 [==============================] - 8s 646ms/step - loss: 1.1568 - accuracy: 0.5314 - val_loss: 1.1494 - val_accuracy: 0.5000\n",
            "Epoch 74/100\n",
            "12/12 [==============================] - 8s 666ms/step - loss: 1.0488 - accuracy: 0.5262 - val_loss: 1.0917 - val_accuracy: 0.5143\n",
            "Epoch 75/100\n",
            "12/12 [==============================] - 8s 659ms/step - loss: 1.0901 - accuracy: 0.5340 - val_loss: 1.0457 - val_accuracy: 0.4786\n",
            "Epoch 76/100\n",
            "12/12 [==============================] - 8s 638ms/step - loss: 0.9416 - accuracy: 0.5942 - val_loss: 1.0410 - val_accuracy: 0.5000\n",
            "Epoch 77/100\n",
            "12/12 [==============================] - 8s 623ms/step - loss: 0.9481 - accuracy: 0.5864 - val_loss: 0.9943 - val_accuracy: 0.5143\n",
            "Epoch 78/100\n",
            "12/12 [==============================] - 8s 633ms/step - loss: 0.9994 - accuracy: 0.5576 - val_loss: 0.9801 - val_accuracy: 0.5786\n",
            "Epoch 79/100\n",
            "12/12 [==============================] - 8s 630ms/step - loss: 1.0447 - accuracy: 0.5314 - val_loss: 1.0581 - val_accuracy: 0.5643\n",
            "Epoch 80/100\n",
            "12/12 [==============================] - 8s 664ms/step - loss: 0.9400 - accuracy: 0.5654 - val_loss: 1.0463 - val_accuracy: 0.5714\n",
            "Epoch 81/100\n",
            "12/12 [==============================] - 8s 659ms/step - loss: 0.9846 - accuracy: 0.5733 - val_loss: 0.9704 - val_accuracy: 0.5929\n",
            "Epoch 82/100\n",
            "12/12 [==============================] - 8s 638ms/step - loss: 0.9788 - accuracy: 0.5890 - val_loss: 0.9808 - val_accuracy: 0.5857\n",
            "Epoch 83/100\n",
            "12/12 [==============================] - 8s 635ms/step - loss: 1.0296 - accuracy: 0.5838 - val_loss: 1.0155 - val_accuracy: 0.6143\n",
            "Epoch 84/100\n",
            "12/12 [==============================] - 8s 615ms/step - loss: 0.9180 - accuracy: 0.6099 - val_loss: 0.9842 - val_accuracy: 0.5786\n",
            "Epoch 85/100\n",
            "12/12 [==============================] - 8s 651ms/step - loss: 0.9724 - accuracy: 0.5942 - val_loss: 0.9796 - val_accuracy: 0.6071\n",
            "Epoch 86/100\n",
            "12/12 [==============================] - 8s 637ms/step - loss: 0.9508 - accuracy: 0.6230 - val_loss: 0.9433 - val_accuracy: 0.6071\n",
            "Epoch 87/100\n",
            "12/12 [==============================] - 8s 642ms/step - loss: 0.9463 - accuracy: 0.5995 - val_loss: 0.9516 - val_accuracy: 0.5929\n",
            "Epoch 88/100\n",
            "12/12 [==============================] - 8s 650ms/step - loss: 1.0159 - accuracy: 0.5314 - val_loss: 1.0359 - val_accuracy: 0.6143\n",
            "Epoch 89/100\n",
            "12/12 [==============================] - 7s 626ms/step - loss: 1.0985 - accuracy: 0.5550 - val_loss: 0.9831 - val_accuracy: 0.6000\n",
            "Epoch 90/100\n",
            "12/12 [==============================] - 8s 629ms/step - loss: 0.9742 - accuracy: 0.5916 - val_loss: 0.9861 - val_accuracy: 0.5714\n",
            "Epoch 91/100\n",
            "12/12 [==============================] - 7s 626ms/step - loss: 1.0325 - accuracy: 0.5445 - val_loss: 1.0269 - val_accuracy: 0.5929\n",
            "Epoch 92/100\n",
            "12/12 [==============================] - 8s 651ms/step - loss: 0.9441 - accuracy: 0.5628 - val_loss: 1.0297 - val_accuracy: 0.6429\n",
            "Epoch 93/100\n",
            "12/12 [==============================] - 8s 641ms/step - loss: 0.9315 - accuracy: 0.5759 - val_loss: 0.9850 - val_accuracy: 0.6571\n",
            "Epoch 94/100\n",
            "12/12 [==============================] - 8s 660ms/step - loss: 0.9178 - accuracy: 0.6204 - val_loss: 1.0178 - val_accuracy: 0.6214\n",
            "Epoch 95/100\n",
            "12/12 [==============================] - 8s 666ms/step - loss: 0.9532 - accuracy: 0.5916 - val_loss: 1.0361 - val_accuracy: 0.5714\n",
            "Epoch 96/100\n",
            "12/12 [==============================] - 8s 633ms/step - loss: 0.8829 - accuracy: 0.6440 - val_loss: 1.0273 - val_accuracy: 0.5571\n",
            "Epoch 97/100\n",
            "12/12 [==============================] - 8s 642ms/step - loss: 0.8803 - accuracy: 0.6257 - val_loss: 1.0849 - val_accuracy: 0.5571\n",
            "Epoch 98/100\n",
            "12/12 [==============================] - 7s 623ms/step - loss: 0.8697 - accuracy: 0.6283 - val_loss: 1.0831 - val_accuracy: 0.5643\n",
            "Epoch 99/100\n",
            "12/12 [==============================] - 8s 643ms/step - loss: 0.9746 - accuracy: 0.6021 - val_loss: 1.2538 - val_accuracy: 0.5000\n",
            "Epoch 100/100\n",
            "12/12 [==============================] - 8s 639ms/step - loss: 0.8883 - accuracy: 0.5969 - val_loss: 1.3156 - val_accuracy: 0.4571\n"
          ]
        },
        {
          "output_type": "execute_result",
          "data": {
            "text/plain": [
              "<keras.callbacks.History at 0x7f8090b8c510>"
            ]
          },
          "metadata": {},
          "execution_count": 47
        }
      ]
    }
  ]
}